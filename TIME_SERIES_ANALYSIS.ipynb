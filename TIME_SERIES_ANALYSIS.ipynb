{
 "cells": [
  {
   "cell_type": "markdown",
   "metadata": {
    "id": "8WkNXSUzd4M7"
   },
   "source": [
    "## Topic 1: Introduction to Time Series"
   ]
  },
  {
   "cell_type": "code",
   "execution_count": 1,
   "metadata": {
    "id": "ucE7hk2vluJm"
   },
   "outputs": [],
   "source": [
    "#import basic libraries needed\n",
    "import numpy as np\n",
    "import pandas as pd\n",
    "import seaborn as sns\n",
    "import matplotlib.pyplot as plt\n",
    "import itertools\n",
    "\n",
    "# Ignore harmless warnings\n",
    "import warnings\n",
    "warnings.filterwarnings(\"ignore\")"
   ]
  },
  {
   "cell_type": "markdown",
   "metadata": {
    "id": "pQvhLGg_mDch"
   },
   "source": [
    "### 1.1: Loading Time Series Data"
   ]
  },
  {
   "cell_type": "code",
   "execution_count": 2,
   "metadata": {
    "colab": {
     "base_uri": "https://localhost:8080/",
     "height": 423
    },
    "id": "ki17rO99lRny",
    "outputId": "c647744e-1b99-40e5-bddf-bb09c335f91d"
   },
   "outputs": [
    {
     "data": {
      "text/html": [
       "<div>\n",
       "<style scoped>\n",
       "    .dataframe tbody tr th:only-of-type {\n",
       "        vertical-align: middle;\n",
       "    }\n",
       "\n",
       "    .dataframe tbody tr th {\n",
       "        vertical-align: top;\n",
       "    }\n",
       "\n",
       "    .dataframe thead th {\n",
       "        text-align: right;\n",
       "    }\n",
       "</style>\n",
       "<table border=\"1\" class=\"dataframe\">\n",
       "  <thead>\n",
       "    <tr style=\"text-align: right;\">\n",
       "      <th></th>\n",
       "      <th>Year</th>\n",
       "      <th>Month</th>\n",
       "      <th>Day</th>\n",
       "      <th>Sales</th>\n",
       "    </tr>\n",
       "  </thead>\n",
       "  <tbody>\n",
       "    <tr>\n",
       "      <th>0</th>\n",
       "      <td>2021</td>\n",
       "      <td>1</td>\n",
       "      <td>1</td>\n",
       "      <td>1.851228e+07</td>\n",
       "    </tr>\n",
       "    <tr>\n",
       "      <th>1</th>\n",
       "      <td>2021</td>\n",
       "      <td>1</td>\n",
       "      <td>2</td>\n",
       "      <td>2.316229e+07</td>\n",
       "    </tr>\n",
       "    <tr>\n",
       "      <th>2</th>\n",
       "      <td>2021</td>\n",
       "      <td>1</td>\n",
       "      <td>3</td>\n",
       "      <td>1.607916e+06</td>\n",
       "    </tr>\n",
       "    <tr>\n",
       "      <th>3</th>\n",
       "      <td>2021</td>\n",
       "      <td>1</td>\n",
       "      <td>4</td>\n",
       "      <td>8.756488e+07</td>\n",
       "    </tr>\n",
       "    <tr>\n",
       "      <th>4</th>\n",
       "      <td>2021</td>\n",
       "      <td>1</td>\n",
       "      <td>5</td>\n",
       "      <td>5.865805e+07</td>\n",
       "    </tr>\n",
       "    <tr>\n",
       "      <th>...</th>\n",
       "      <td>...</td>\n",
       "      <td>...</td>\n",
       "      <td>...</td>\n",
       "      <td>...</td>\n",
       "    </tr>\n",
       "    <tr>\n",
       "      <th>650</th>\n",
       "      <td>2022</td>\n",
       "      <td>10</td>\n",
       "      <td>17</td>\n",
       "      <td>3.524410e+07</td>\n",
       "    </tr>\n",
       "    <tr>\n",
       "      <th>651</th>\n",
       "      <td>2022</td>\n",
       "      <td>10</td>\n",
       "      <td>18</td>\n",
       "      <td>2.272823e+07</td>\n",
       "    </tr>\n",
       "    <tr>\n",
       "      <th>652</th>\n",
       "      <td>2022</td>\n",
       "      <td>10</td>\n",
       "      <td>19</td>\n",
       "      <td>1.976213e+07</td>\n",
       "    </tr>\n",
       "    <tr>\n",
       "      <th>653</th>\n",
       "      <td>2022</td>\n",
       "      <td>10</td>\n",
       "      <td>20</td>\n",
       "      <td>1.589571e+07</td>\n",
       "    </tr>\n",
       "    <tr>\n",
       "      <th>654</th>\n",
       "      <td>2022</td>\n",
       "      <td>10</td>\n",
       "      <td>21</td>\n",
       "      <td>1.708320e+07</td>\n",
       "    </tr>\n",
       "  </tbody>\n",
       "</table>\n",
       "<p>655 rows × 4 columns</p>\n",
       "</div>"
      ],
      "text/plain": [
       "     Year  Month  Day         Sales\n",
       "0    2021      1    1  1.851228e+07\n",
       "1    2021      1    2  2.316229e+07\n",
       "2    2021      1    3  1.607916e+06\n",
       "3    2021      1    4  8.756488e+07\n",
       "4    2021      1    5  5.865805e+07\n",
       "..    ...    ...  ...           ...\n",
       "650  2022     10   17  3.524410e+07\n",
       "651  2022     10   18  2.272823e+07\n",
       "652  2022     10   19  1.976213e+07\n",
       "653  2022     10   20  1.589571e+07\n",
       "654  2022     10   21  1.708320e+07\n",
       "\n",
       "[655 rows x 4 columns]"
      ]
     },
     "execution_count": 2,
     "metadata": {},
     "output_type": "execute_result"
    }
   ],
   "source": [
    "#load the data\n",
    "df = pd.read_excel(\"/home/sarah/My Projects/Time series/Daily Sales Mega 21 - 22.xlsx\")\n",
    "df"
   ]
  },
  {
   "cell_type": "markdown",
   "metadata": {
    "id": "BNnclcTLnAFG"
   },
   "source": [
    "`printing information about a DataFrame including the index dtype and columns, non-null values and memory usage.`"
   ]
  },
  {
   "cell_type": "code",
   "execution_count": 3,
   "metadata": {
    "colab": {
     "base_uri": "https://localhost:8080/"
    },
    "id": "i1hDLOITnKw6",
    "outputId": "da8605ad-1420-475b-c0ee-16d976621e4e"
   },
   "outputs": [
    {
     "name": "stdout",
     "output_type": "stream",
     "text": [
      "<class 'pandas.core.frame.DataFrame'>\n",
      "RangeIndex: 655 entries, 0 to 654\n",
      "Data columns (total 4 columns):\n",
      " #   Column  Non-Null Count  Dtype  \n",
      "---  ------  --------------  -----  \n",
      " 0   Year    655 non-null    int64  \n",
      " 1   Month   655 non-null    int64  \n",
      " 2   Day     655 non-null    int64  \n",
      " 3   Sales   655 non-null    float64\n",
      "dtypes: float64(1), int64(3)\n",
      "memory usage: 20.6 KB\n"
     ]
    }
   ],
   "source": [
    "df.info(verbose= True)"
   ]
  },
  {
   "cell_type": "markdown",
   "metadata": {
    "id": "b2VR5MONEm1o"
   },
   "source": [
    "check for any missing values in the dataframe."
   ]
  },
  {
   "cell_type": "markdown",
   "metadata": {
    "id": "SPXEj7-eSdeX"
   },
   "source": [
    "## Topic 2: Dealing with Missing Data\n",
    "\n",
    "It's pretty common for a time series dataset to have missing values as real-world data tends to be messy and imperfect. The simplest way to detect missing values is either plotting the data and identifying disjoint areas of time series, or by using a combination of `.isnull()` and `.sum()` methods:  \n",
    "\n",
    "In this case, there is no missing data. When data are missing, they can be handled in a multitude of ways: \n",
    "* Drop the data elements with missing values (this may result in low accuracy and loss of valuable information)\n",
    "* Fill in the missing values under a defined criteria \n",
    "* Use advanced machine learning methods to predict the missing values \n",
    "\n",
    " In general, the `.fillna()` method can be used along with methods like `.bfill()` of `.ffill()` as an argument/criterion for filling in missing values . `.bfill()` (backward filling) looks for the next valid entry in the time series and fills the gaps with this value. Similarly, `.ffill()` can be used to copy forward the previous valid entry of the time series \n"
   ]
  },
  {
   "cell_type": "code",
   "execution_count": 4,
   "metadata": {
    "colab": {
     "base_uri": "https://localhost:8080/"
    },
    "id": "rdH1a6UCEiNL",
    "outputId": "4579b322-2534-481b-f11b-ff204a6e0614"
   },
   "outputs": [
    {
     "data": {
      "text/plain": [
       "Year     0\n",
       "Month    0\n",
       "Day      0\n",
       "Sales    0\n",
       "dtype: int64"
      ]
     },
     "execution_count": 4,
     "metadata": {},
     "output_type": "execute_result"
    }
   ],
   "source": [
    "df.isna().sum()"
   ]
  },
  {
   "cell_type": "markdown",
   "metadata": {
    "id": "lCHfIr07Ewg5"
   },
   "source": [
    "There are no missing records."
   ]
  },
  {
   "cell_type": "markdown",
   "metadata": {
    "id": "G9ULKY4S831x"
   },
   "source": [
    "## Topic 3: Pandas To_DateTime\n",
    "\n",
    "Pandas .to_datetime() is a method that allows you to convert a string into DateTimes.This is Useful when working with Time series Data\n",
    "[see Documentation](https://dataindependent.com/pandas/pandas-to-datetime-string-to-date-pd-to_datetime/)\n"
   ]
  },
  {
   "cell_type": "markdown",
   "metadata": {
    "id": "T-Y5ugWeozLK"
   },
   "source": [
    "`While working with time series data in Python, two things can make your life easier:`\n",
    "\n",
    "- Dates are in the index of the DataFrame (helps you with plotting)\n",
    "- The columns are understood by Python as true \"date\" classes"
   ]
  },
  {
   "cell_type": "markdown",
   "metadata": {
    "id": "JnpjLkCSrhDh"
   },
   "source": [
    "We need to do two things now: \n",
    "\n",
    "1. Make sure that we change the dates in our dataset from \"non-null object\" to \"non-null datetime\" (i.e., change the data type of dates). This can be done using the `to_datetime()` function from Pandas. To make sure Python understands the date correctly, a `format` argument can be passed [as specified in the documentation](https://pandas.pydata.org/pandas-docs/stable/timeseries.html#providing-a-format-argument).\n"
   ]
  },
  {
   "cell_type": "markdown",
   "metadata": {
    "id": "rNqw-ft1nvOZ"
   },
   "source": [
    "### 3.1: combine year, month and day into a single date\n"
   ]
  },
  {
   "cell_type": "code",
   "execution_count": 5,
   "metadata": {
    "id": "3EKLASVtn809"
   },
   "outputs": [],
   "source": [
    "#combine year,month and day to a single Date column\n",
    "df['Date']=pd.to_datetime(df[['Year','Month','Day']])"
   ]
  },
  {
   "cell_type": "code",
   "execution_count": 6,
   "metadata": {
    "colab": {
     "base_uri": "https://localhost:8080/",
     "height": 206
    },
    "id": "dPJDsgYFoRhO",
    "outputId": "787e3146-2653-400f-d9f3-b7599db8ef33"
   },
   "outputs": [
    {
     "data": {
      "text/html": [
       "<div>\n",
       "<style scoped>\n",
       "    .dataframe tbody tr th:only-of-type {\n",
       "        vertical-align: middle;\n",
       "    }\n",
       "\n",
       "    .dataframe tbody tr th {\n",
       "        vertical-align: top;\n",
       "    }\n",
       "\n",
       "    .dataframe thead th {\n",
       "        text-align: right;\n",
       "    }\n",
       "</style>\n",
       "<table border=\"1\" class=\"dataframe\">\n",
       "  <thead>\n",
       "    <tr style=\"text-align: right;\">\n",
       "      <th></th>\n",
       "      <th>Year</th>\n",
       "      <th>Month</th>\n",
       "      <th>Day</th>\n",
       "      <th>Sales</th>\n",
       "      <th>Date</th>\n",
       "    </tr>\n",
       "  </thead>\n",
       "  <tbody>\n",
       "    <tr>\n",
       "      <th>0</th>\n",
       "      <td>2021</td>\n",
       "      <td>1</td>\n",
       "      <td>1</td>\n",
       "      <td>1.851228e+07</td>\n",
       "      <td>2021-01-01</td>\n",
       "    </tr>\n",
       "    <tr>\n",
       "      <th>1</th>\n",
       "      <td>2021</td>\n",
       "      <td>1</td>\n",
       "      <td>2</td>\n",
       "      <td>2.316229e+07</td>\n",
       "      <td>2021-01-02</td>\n",
       "    </tr>\n",
       "    <tr>\n",
       "      <th>2</th>\n",
       "      <td>2021</td>\n",
       "      <td>1</td>\n",
       "      <td>3</td>\n",
       "      <td>1.607916e+06</td>\n",
       "      <td>2021-01-03</td>\n",
       "    </tr>\n",
       "    <tr>\n",
       "      <th>3</th>\n",
       "      <td>2021</td>\n",
       "      <td>1</td>\n",
       "      <td>4</td>\n",
       "      <td>8.756488e+07</td>\n",
       "      <td>2021-01-04</td>\n",
       "    </tr>\n",
       "    <tr>\n",
       "      <th>4</th>\n",
       "      <td>2021</td>\n",
       "      <td>1</td>\n",
       "      <td>5</td>\n",
       "      <td>5.865805e+07</td>\n",
       "      <td>2021-01-05</td>\n",
       "    </tr>\n",
       "  </tbody>\n",
       "</table>\n",
       "</div>"
      ],
      "text/plain": [
       "   Year  Month  Day         Sales       Date\n",
       "0  2021      1    1  1.851228e+07 2021-01-01\n",
       "1  2021      1    2  2.316229e+07 2021-01-02\n",
       "2  2021      1    3  1.607916e+06 2021-01-03\n",
       "3  2021      1    4  8.756488e+07 2021-01-04\n",
       "4  2021      1    5  5.865805e+07 2021-01-05"
      ]
     },
     "execution_count": 6,
     "metadata": {},
     "output_type": "execute_result"
    }
   ],
   "source": [
    "#display the first 5 records of the dataFrame\n",
    "df.head()"
   ]
  },
  {
   "cell_type": "code",
   "execution_count": 7,
   "metadata": {
    "id": "3XeOQCPdCeZe"
   },
   "outputs": [],
   "source": [
    "# Convert Date to a datetime column\n",
    "df['Date'] = pd.to_datetime(df['Date'], format='%d/%m/%y')"
   ]
  },
  {
   "cell_type": "code",
   "execution_count": 8,
   "metadata": {
    "colab": {
     "base_uri": "https://localhost:8080/"
    },
    "id": "Wgx7jimdCuwa",
    "outputId": "daeb4afb-9d79-420d-9ba6-b5ecd3da9785"
   },
   "outputs": [
    {
     "name": "stdout",
     "output_type": "stream",
     "text": [
      "<class 'pandas.core.frame.DataFrame'>\n",
      "RangeIndex: 655 entries, 0 to 654\n",
      "Data columns (total 5 columns):\n",
      " #   Column  Non-Null Count  Dtype         \n",
      "---  ------  --------------  -----         \n",
      " 0   Year    655 non-null    int64         \n",
      " 1   Month   655 non-null    int64         \n",
      " 2   Day     655 non-null    int64         \n",
      " 3   Sales   655 non-null    float64       \n",
      " 4   Date    655 non-null    datetime64[ns]\n",
      "dtypes: datetime64[ns](1), float64(1), int64(3)\n",
      "memory usage: 25.7 KB\n"
     ]
    }
   ],
   "source": [
    "df.info()"
   ]
  },
  {
   "cell_type": "markdown",
   "metadata": {
    "id": "Ga85E_NzDRVN"
   },
   "source": [
    "2. Ensure the date becomes the index. "
   ]
  },
  {
   "cell_type": "code",
   "execution_count": 9,
   "metadata": {
    "id": "xxstzhjrDLKW"
   },
   "outputs": [],
   "source": [
    "# Make Date the index \n",
    "df.set_index('Date', inplace=True)"
   ]
  },
  {
   "cell_type": "code",
   "execution_count": 10,
   "metadata": {
    "colab": {
     "base_uri": "https://localhost:8080/",
     "height": 237
    },
    "id": "OvOZmcdzDsk4",
    "outputId": "00293438-269b-4266-bcd3-176883649d92"
   },
   "outputs": [
    {
     "data": {
      "text/html": [
       "<div>\n",
       "<style scoped>\n",
       "    .dataframe tbody tr th:only-of-type {\n",
       "        vertical-align: middle;\n",
       "    }\n",
       "\n",
       "    .dataframe tbody tr th {\n",
       "        vertical-align: top;\n",
       "    }\n",
       "\n",
       "    .dataframe thead th {\n",
       "        text-align: right;\n",
       "    }\n",
       "</style>\n",
       "<table border=\"1\" class=\"dataframe\">\n",
       "  <thead>\n",
       "    <tr style=\"text-align: right;\">\n",
       "      <th></th>\n",
       "      <th>Year</th>\n",
       "      <th>Month</th>\n",
       "      <th>Day</th>\n",
       "      <th>Sales</th>\n",
       "    </tr>\n",
       "    <tr>\n",
       "      <th>Date</th>\n",
       "      <th></th>\n",
       "      <th></th>\n",
       "      <th></th>\n",
       "      <th></th>\n",
       "    </tr>\n",
       "  </thead>\n",
       "  <tbody>\n",
       "    <tr>\n",
       "      <th>2021-01-01</th>\n",
       "      <td>2021</td>\n",
       "      <td>1</td>\n",
       "      <td>1</td>\n",
       "      <td>1.851228e+07</td>\n",
       "    </tr>\n",
       "    <tr>\n",
       "      <th>2021-01-02</th>\n",
       "      <td>2021</td>\n",
       "      <td>1</td>\n",
       "      <td>2</td>\n",
       "      <td>2.316229e+07</td>\n",
       "    </tr>\n",
       "    <tr>\n",
       "      <th>2021-01-03</th>\n",
       "      <td>2021</td>\n",
       "      <td>1</td>\n",
       "      <td>3</td>\n",
       "      <td>1.607916e+06</td>\n",
       "    </tr>\n",
       "    <tr>\n",
       "      <th>2021-01-04</th>\n",
       "      <td>2021</td>\n",
       "      <td>1</td>\n",
       "      <td>4</td>\n",
       "      <td>8.756488e+07</td>\n",
       "    </tr>\n",
       "    <tr>\n",
       "      <th>2021-01-05</th>\n",
       "      <td>2021</td>\n",
       "      <td>1</td>\n",
       "      <td>5</td>\n",
       "      <td>5.865805e+07</td>\n",
       "    </tr>\n",
       "  </tbody>\n",
       "</table>\n",
       "</div>"
      ],
      "text/plain": [
       "            Year  Month  Day         Sales\n",
       "Date                                      \n",
       "2021-01-01  2021      1    1  1.851228e+07\n",
       "2021-01-02  2021      1    2  2.316229e+07\n",
       "2021-01-03  2021      1    3  1.607916e+06\n",
       "2021-01-04  2021      1    4  8.756488e+07\n",
       "2021-01-05  2021      1    5  5.865805e+07"
      ]
     },
     "execution_count": 10,
     "metadata": {},
     "output_type": "execute_result"
    }
   ],
   "source": [
    "df.head()"
   ]
  },
  {
   "cell_type": "code",
   "execution_count": 11,
   "metadata": {
    "colab": {
     "base_uri": "https://localhost:8080/"
    },
    "id": "yrBMHZC8Dfcr",
    "outputId": "3e0a958b-ef44-47eb-dc3f-17f8037255e8"
   },
   "outputs": [
    {
     "name": "stdout",
     "output_type": "stream",
     "text": [
      "<class 'pandas.core.frame.DataFrame'>\n",
      "DatetimeIndex: 655 entries, 2021-01-01 to 2022-10-21\n",
      "Data columns (total 4 columns):\n",
      " #   Column  Non-Null Count  Dtype  \n",
      "---  ------  --------------  -----  \n",
      " 0   Year    655 non-null    int64  \n",
      " 1   Month   655 non-null    int64  \n",
      " 2   Day     655 non-null    int64  \n",
      " 3   Sales   655 non-null    float64\n",
      "dtypes: float64(1), int64(3)\n",
      "memory usage: 25.6 KB\n"
     ]
    }
   ],
   "source": [
    "df.info()"
   ]
  },
  {
   "cell_type": "markdown",
   "metadata": {
    "id": "C_vLpUa7DxcZ"
   },
   "source": [
    "There are only 4 column now and not 5 as before"
   ]
  },
  {
   "cell_type": "markdown",
   "metadata": {
    "id": "f9aMhPAVEEdq"
   },
   "source": [
    "## Topic 4: Resampling"
   ]
  },
  {
   "cell_type": "code",
   "execution_count": 12,
   "metadata": {
    "colab": {
     "base_uri": "https://localhost:8080/",
     "height": 447
    },
    "id": "Csv55ftAu6sw",
    "outputId": "7b64270c-013b-465d-c159-0e64d43d4dc2"
   },
   "outputs": [
    {
     "data": {
      "text/plain": [
       "<matplotlib.axes._subplots.AxesSubplot at 0x7f8cba22eed0>"
      ]
     },
     "execution_count": 12,
     "metadata": {},
     "output_type": "execute_result"
    },
    {
     "data": {
      "image/png": "[encoded data removed]",
      "text/plain": [
       "<Figure size 1584x576 with 1 Axes>"
      ]
     },
     "metadata": {
      "needs_background": "light"
     },
     "output_type": "display_data"
    }
   ],
   "source": [
    "# PLot daily sales\n",
    "df['Sales'].plot(figsize=(22,8))"
   ]
  },
  {
   "cell_type": "markdown",
   "metadata": {
    "id": "OwzZM0mEvG2t"
   },
   "source": [
    "- Pandas has a simple, powerful, and efficient functionality for performing resampling operations when converting the frequency conversion (e.g., converting monthly data into yearly data). This is very common in financial applications.\n",
    "\n",
    "- This daily data is alot in that when being plotted it becomes impossible to read the graph hence the need to downsample the data. `Resampling` helps in changing the `frequency` at which the time series is reported.\n",
    "\n",
    "- Resampling derives more reliable and consistent data"
   ]
  },
  {
   "cell_type": "markdown",
   "metadata": {
    "id": "NPSRT8inENn5"
   },
   "source": [
    "### 4.1: Downsampling\n",
    "-Downsampling decreses time frequency e.g\n",
    "\n",
    "       `seconds to hour`\n",
    "       `month to quarter or year`\n",
    "\n",
    "Did you notice that the date is now in the index!? Having the date as the index has several advantages, among others, easy visualization with dates on the x-axis, and the functionality to [resample](https://www.statology.org/python-resample-time-series/) the data. \n",
    " \n",
    "\n",
    "In the following cell, we are using the `.resample()` method to change the frequency of the time series to monthly (using the string `'MS'`) and then calculating the monthly mean. "
   ]
  },
  {
   "cell_type": "code",
   "execution_count": 13,
   "metadata": {
    "id": "uLCKUdhpD4Ah"
   },
   "outputs": [],
   "source": [
    "monthly_sales = df.resample('MS')\n",
    "monthly_mean = monthly_sales.mean()"
   ]
  },
  {
   "cell_type": "code",
   "execution_count": 14,
   "metadata": {
    "colab": {
     "base_uri": "https://localhost:8080/",
     "height": 237
    },
    "id": "zgN5JvKSGBNL",
    "outputId": "a2d1d2c6-3a2d-4c9b-ee44-ed5aedd6971c"
   },
   "outputs": [
    {
     "data": {
      "text/html": [
       "<div>\n",
       "<style scoped>\n",
       "    .dataframe tbody tr th:only-of-type {\n",
       "        vertical-align: middle;\n",
       "    }\n",
       "\n",
       "    .dataframe tbody tr th {\n",
       "        vertical-align: top;\n",
       "    }\n",
       "\n",
       "    .dataframe thead th {\n",
       "        text-align: right;\n",
       "    }\n",
       "</style>\n",
       "<table border=\"1\" class=\"dataframe\">\n",
       "  <thead>\n",
       "    <tr style=\"text-align: right;\">\n",
       "      <th></th>\n",
       "      <th>Year</th>\n",
       "      <th>Month</th>\n",
       "      <th>Day</th>\n",
       "      <th>Sales</th>\n",
       "    </tr>\n",
       "    <tr>\n",
       "      <th>Date</th>\n",
       "      <th></th>\n",
       "      <th></th>\n",
       "      <th></th>\n",
       "      <th></th>\n",
       "    </tr>\n",
       "  </thead>\n",
       "  <tbody>\n",
       "    <tr>\n",
       "      <th>2021-01-01</th>\n",
       "      <td>2021.0</td>\n",
       "      <td>1.0</td>\n",
       "      <td>16.0</td>\n",
       "      <td>2.739022e+07</td>\n",
       "    </tr>\n",
       "    <tr>\n",
       "      <th>2021-02-01</th>\n",
       "      <td>2021.0</td>\n",
       "      <td>2.0</td>\n",
       "      <td>14.5</td>\n",
       "      <td>2.908218e+07</td>\n",
       "    </tr>\n",
       "    <tr>\n",
       "      <th>2021-03-01</th>\n",
       "      <td>2021.0</td>\n",
       "      <td>3.0</td>\n",
       "      <td>16.0</td>\n",
       "      <td>2.954600e+07</td>\n",
       "    </tr>\n",
       "    <tr>\n",
       "      <th>2021-04-01</th>\n",
       "      <td>2021.0</td>\n",
       "      <td>4.0</td>\n",
       "      <td>15.5</td>\n",
       "      <td>4.376903e+07</td>\n",
       "    </tr>\n",
       "    <tr>\n",
       "      <th>2021-05-01</th>\n",
       "      <td>2021.0</td>\n",
       "      <td>5.0</td>\n",
       "      <td>16.0</td>\n",
       "      <td>3.779107e+07</td>\n",
       "    </tr>\n",
       "  </tbody>\n",
       "</table>\n",
       "</div>"
      ],
      "text/plain": [
       "              Year  Month   Day         Sales\n",
       "Date                                         \n",
       "2021-01-01  2021.0    1.0  16.0  2.739022e+07\n",
       "2021-02-01  2021.0    2.0  14.5  2.908218e+07\n",
       "2021-03-01  2021.0    3.0  16.0  2.954600e+07\n",
       "2021-04-01  2021.0    4.0  15.5  4.376903e+07\n",
       "2021-05-01  2021.0    5.0  16.0  3.779107e+07"
      ]
     },
     "execution_count": 14,
     "metadata": {},
     "output_type": "execute_result"
    }
   ],
   "source": [
    "monthly_mean.head()"
   ]
  },
  {
   "cell_type": "markdown",
   "metadata": {
    "id": "vXCPEAenyRKT"
   },
   "source": [
    "### 4.2: Upsampling\n",
    "\n",
    "In some cases, it is useful to create upsampled time series as well, especially if you're trying to merge several time series with different frequencies. You can do this by using the `.resample()` method with an interval that is more frequent than the timestamp from the original time series. \n",
    "\n",
    "In the following cell, we change the frequency of the data to 12 hours (using thr string `'12H'`) and then chain the `.asfreq()` method to return the resulting data."
   ]
  },
  {
   "cell_type": "code",
   "execution_count": 15,
   "metadata": {
    "colab": {
     "base_uri": "https://localhost:8080/",
     "height": 237
    },
    "id": "V7nTnhH8ySN9",
    "outputId": "f7037e5a-ad6e-40d7-aed6-49a45c61c900"
   },
   "outputs": [
    {
     "data": {
      "text/html": [
       "<div>\n",
       "<style scoped>\n",
       "    .dataframe tbody tr th:only-of-type {\n",
       "        vertical-align: middle;\n",
       "    }\n",
       "\n",
       "    .dataframe tbody tr th {\n",
       "        vertical-align: top;\n",
       "    }\n",
       "\n",
       "    .dataframe thead th {\n",
       "        text-align: right;\n",
       "    }\n",
       "</style>\n",
       "<table border=\"1\" class=\"dataframe\">\n",
       "  <thead>\n",
       "    <tr style=\"text-align: right;\">\n",
       "      <th></th>\n",
       "      <th>Year</th>\n",
       "      <th>Month</th>\n",
       "      <th>Day</th>\n",
       "      <th>Sales</th>\n",
       "    </tr>\n",
       "    <tr>\n",
       "      <th>Date</th>\n",
       "      <th></th>\n",
       "      <th></th>\n",
       "      <th></th>\n",
       "      <th></th>\n",
       "    </tr>\n",
       "  </thead>\n",
       "  <tbody>\n",
       "    <tr>\n",
       "      <th>2021-01-01 00:00:00</th>\n",
       "      <td>2021.0</td>\n",
       "      <td>1.0</td>\n",
       "      <td>1.0</td>\n",
       "      <td>18512281.92</td>\n",
       "    </tr>\n",
       "    <tr>\n",
       "      <th>2021-01-01 12:00:00</th>\n",
       "      <td>NaN</td>\n",
       "      <td>NaN</td>\n",
       "      <td>NaN</td>\n",
       "      <td>NaN</td>\n",
       "    </tr>\n",
       "    <tr>\n",
       "      <th>2021-01-02 00:00:00</th>\n",
       "      <td>2021.0</td>\n",
       "      <td>1.0</td>\n",
       "      <td>2.0</td>\n",
       "      <td>23162287.24</td>\n",
       "    </tr>\n",
       "    <tr>\n",
       "      <th>2021-01-02 12:00:00</th>\n",
       "      <td>NaN</td>\n",
       "      <td>NaN</td>\n",
       "      <td>NaN</td>\n",
       "      <td>NaN</td>\n",
       "    </tr>\n",
       "    <tr>\n",
       "      <th>2021-01-03 00:00:00</th>\n",
       "      <td>2021.0</td>\n",
       "      <td>1.0</td>\n",
       "      <td>3.0</td>\n",
       "      <td>1607915.98</td>\n",
       "    </tr>\n",
       "  </tbody>\n",
       "</table>\n",
       "</div>"
      ],
      "text/plain": [
       "                       Year  Month  Day        Sales\n",
       "Date                                                \n",
       "2021-01-01 00:00:00  2021.0    1.0  1.0  18512281.92\n",
       "2021-01-01 12:00:00     NaN    NaN  NaN          NaN\n",
       "2021-01-02 00:00:00  2021.0    1.0  2.0  23162287.24\n",
       "2021-01-02 12:00:00     NaN    NaN  NaN          NaN\n",
       "2021-01-03 00:00:00  2021.0    1.0  3.0   1607915.98"
      ]
     },
     "execution_count": 15,
     "metadata": {},
     "output_type": "execute_result"
    }
   ],
   "source": [
    "sales_daily = df.resample('12H').asfreq()\n",
    "sales_daily.head()"
   ]
  },
  {
   "cell_type": "markdown",
   "metadata": {
    "id": "d9SO3Wvozu0X"
   },
   "source": [
    "As you can see, these new timestamps all have missing values in the resulting data. One of the common ways around this is to fill the current missing value with a previous valid one. To do this, you can use the `.ffill()` method as shown below: "
   ]
  },
  {
   "cell_type": "code",
   "execution_count": 16,
   "metadata": {
    "colab": {
     "base_uri": "https://localhost:8080/",
     "height": 237
    },
    "id": "p6cUUgl_zvRy",
    "outputId": "308771ab-f656-49b0-b120-e9166457635c"
   },
   "outputs": [
    {
     "data": {
      "text/html": [
       "<div>\n",
       "<style scoped>\n",
       "    .dataframe tbody tr th:only-of-type {\n",
       "        vertical-align: middle;\n",
       "    }\n",
       "\n",
       "    .dataframe tbody tr th {\n",
       "        vertical-align: top;\n",
       "    }\n",
       "\n",
       "    .dataframe thead th {\n",
       "        text-align: right;\n",
       "    }\n",
       "</style>\n",
       "<table border=\"1\" class=\"dataframe\">\n",
       "  <thead>\n",
       "    <tr style=\"text-align: right;\">\n",
       "      <th></th>\n",
       "      <th>Year</th>\n",
       "      <th>Month</th>\n",
       "      <th>Day</th>\n",
       "      <th>Sales</th>\n",
       "    </tr>\n",
       "    <tr>\n",
       "      <th>Date</th>\n",
       "      <th></th>\n",
       "      <th></th>\n",
       "      <th></th>\n",
       "      <th></th>\n",
       "    </tr>\n",
       "  </thead>\n",
       "  <tbody>\n",
       "    <tr>\n",
       "      <th>2021-01-01 00:00:00</th>\n",
       "      <td>2021.0</td>\n",
       "      <td>1.0</td>\n",
       "      <td>1.0</td>\n",
       "      <td>18512281.92</td>\n",
       "    </tr>\n",
       "    <tr>\n",
       "      <th>2021-01-01 12:00:00</th>\n",
       "      <td>2021.0</td>\n",
       "      <td>1.0</td>\n",
       "      <td>1.0</td>\n",
       "      <td>18512281.92</td>\n",
       "    </tr>\n",
       "    <tr>\n",
       "      <th>2021-01-02 00:00:00</th>\n",
       "      <td>2021.0</td>\n",
       "      <td>1.0</td>\n",
       "      <td>2.0</td>\n",
       "      <td>23162287.24</td>\n",
       "    </tr>\n",
       "    <tr>\n",
       "      <th>2021-01-02 12:00:00</th>\n",
       "      <td>2021.0</td>\n",
       "      <td>1.0</td>\n",
       "      <td>2.0</td>\n",
       "      <td>23162287.24</td>\n",
       "    </tr>\n",
       "    <tr>\n",
       "      <th>2021-01-03 00:00:00</th>\n",
       "      <td>2021.0</td>\n",
       "      <td>1.0</td>\n",
       "      <td>3.0</td>\n",
       "      <td>1607915.98</td>\n",
       "    </tr>\n",
       "  </tbody>\n",
       "</table>\n",
       "</div>"
      ],
      "text/plain": [
       "                       Year  Month  Day        Sales\n",
       "Date                                                \n",
       "2021-01-01 00:00:00  2021.0    1.0  1.0  18512281.92\n",
       "2021-01-01 12:00:00  2021.0    1.0  1.0  18512281.92\n",
       "2021-01-02 00:00:00  2021.0    1.0  2.0  23162287.24\n",
       "2021-01-02 12:00:00  2021.0    1.0  2.0  23162287.24\n",
       "2021-01-03 00:00:00  2021.0    1.0  3.0   1607915.98"
      ]
     },
     "execution_count": 16,
     "metadata": {},
     "output_type": "execute_result"
    }
   ],
   "source": [
    "sales_daily_fill = sales_daily.ffill()\n",
    "sales_daily_fill.head()"
   ]
  },
  {
   "cell_type": "markdown",
   "metadata": {
    "id": "0c_cCzdl3e6A"
   },
   "source": [
    "We dont need to upsample in our case since we only need monthly sales"
   ]
  },
  {
   "cell_type": "markdown",
   "metadata": {
    "id": "o00_mh9U_Dp_"
   },
   "source": [
    "## Topic 5: Selecting and slicing time series data\n",
    "\n",
    "Pandas carries the ability to handle date stamp indices allowing quick and handy way of slicing data. For example, we can slice our dataset to only retrieve data points that come after the year 2022: "
   ]
  },
  {
   "cell_type": "code",
   "execution_count": 17,
   "metadata": {
    "colab": {
     "base_uri": "https://localhost:8080/",
     "height": 237
    },
    "id": "F7YMdVU8CmlF",
    "outputId": "f2a8ef70-2d09-4435-fceb-2655ee0ea659"
   },
   "outputs": [
    {
     "data": {
      "text/html": [
       "<div>\n",
       "<style scoped>\n",
       "    .dataframe tbody tr th:only-of-type {\n",
       "        vertical-align: middle;\n",
       "    }\n",
       "\n",
       "    .dataframe tbody tr th {\n",
       "        vertical-align: top;\n",
       "    }\n",
       "\n",
       "    .dataframe thead th {\n",
       "        text-align: right;\n",
       "    }\n",
       "</style>\n",
       "<table border=\"1\" class=\"dataframe\">\n",
       "  <thead>\n",
       "    <tr style=\"text-align: right;\">\n",
       "      <th></th>\n",
       "      <th>Year</th>\n",
       "      <th>Month</th>\n",
       "      <th>Day</th>\n",
       "      <th>Sales</th>\n",
       "    </tr>\n",
       "    <tr>\n",
       "      <th>Date</th>\n",
       "      <th></th>\n",
       "      <th></th>\n",
       "      <th></th>\n",
       "      <th></th>\n",
       "    </tr>\n",
       "  </thead>\n",
       "  <tbody>\n",
       "    <tr>\n",
       "      <th>2021-01-01</th>\n",
       "      <td>2021.0</td>\n",
       "      <td>1.0</td>\n",
       "      <td>16.0</td>\n",
       "      <td>2.739022e+07</td>\n",
       "    </tr>\n",
       "    <tr>\n",
       "      <th>2021-02-01</th>\n",
       "      <td>2021.0</td>\n",
       "      <td>2.0</td>\n",
       "      <td>14.5</td>\n",
       "      <td>2.908218e+07</td>\n",
       "    </tr>\n",
       "    <tr>\n",
       "      <th>2021-03-01</th>\n",
       "      <td>2021.0</td>\n",
       "      <td>3.0</td>\n",
       "      <td>16.0</td>\n",
       "      <td>2.954600e+07</td>\n",
       "    </tr>\n",
       "    <tr>\n",
       "      <th>2021-04-01</th>\n",
       "      <td>2021.0</td>\n",
       "      <td>4.0</td>\n",
       "      <td>15.5</td>\n",
       "      <td>4.376903e+07</td>\n",
       "    </tr>\n",
       "    <tr>\n",
       "      <th>2021-05-01</th>\n",
       "      <td>2021.0</td>\n",
       "      <td>5.0</td>\n",
       "      <td>16.0</td>\n",
       "      <td>3.779107e+07</td>\n",
       "    </tr>\n",
       "  </tbody>\n",
       "</table>\n",
       "</div>"
      ],
      "text/plain": [
       "              Year  Month   Day         Sales\n",
       "Date                                         \n",
       "2021-01-01  2021.0    1.0  16.0  2.739022e+07\n",
       "2021-02-01  2021.0    2.0  14.5  2.908218e+07\n",
       "2021-03-01  2021.0    3.0  16.0  2.954600e+07\n",
       "2021-04-01  2021.0    4.0  15.5  4.376903e+07\n",
       "2021-05-01  2021.0    5.0  16.0  3.779107e+07"
      ]
     },
     "execution_count": 17,
     "metadata": {},
     "output_type": "execute_result"
    }
   ],
   "source": [
    "sales_2021 = monthly_mean[:'2021']\n",
    "sales_2021.head()\n"
   ]
  },
  {
   "cell_type": "code",
   "execution_count": 18,
   "metadata": {
    "colab": {
     "base_uri": "https://localhost:8080/",
     "height": 237
    },
    "id": "pKYfZEk2_FmK",
    "outputId": "777277e7-1af2-4087-e22f-439d6bd3b30d"
   },
   "outputs": [
    {
     "data": {
      "text/html": [
       "<div>\n",
       "<style scoped>\n",
       "    .dataframe tbody tr th:only-of-type {\n",
       "        vertical-align: middle;\n",
       "    }\n",
       "\n",
       "    .dataframe tbody tr th {\n",
       "        vertical-align: top;\n",
       "    }\n",
       "\n",
       "    .dataframe thead th {\n",
       "        text-align: right;\n",
       "    }\n",
       "</style>\n",
       "<table border=\"1\" class=\"dataframe\">\n",
       "  <thead>\n",
       "    <tr style=\"text-align: right;\">\n",
       "      <th></th>\n",
       "      <th>Year</th>\n",
       "      <th>Month</th>\n",
       "      <th>Day</th>\n",
       "      <th>Sales</th>\n",
       "    </tr>\n",
       "    <tr>\n",
       "      <th>Date</th>\n",
       "      <th></th>\n",
       "      <th></th>\n",
       "      <th></th>\n",
       "      <th></th>\n",
       "    </tr>\n",
       "  </thead>\n",
       "  <tbody>\n",
       "    <tr>\n",
       "      <th>2022-01-01</th>\n",
       "      <td>2022.0</td>\n",
       "      <td>1.0</td>\n",
       "      <td>16.0</td>\n",
       "      <td>3.447437e+07</td>\n",
       "    </tr>\n",
       "    <tr>\n",
       "      <th>2022-02-01</th>\n",
       "      <td>2022.0</td>\n",
       "      <td>2.0</td>\n",
       "      <td>14.5</td>\n",
       "      <td>3.700581e+07</td>\n",
       "    </tr>\n",
       "    <tr>\n",
       "      <th>2022-03-01</th>\n",
       "      <td>2022.0</td>\n",
       "      <td>3.0</td>\n",
       "      <td>16.0</td>\n",
       "      <td>3.516177e+07</td>\n",
       "    </tr>\n",
       "    <tr>\n",
       "      <th>2022-04-01</th>\n",
       "      <td>2022.0</td>\n",
       "      <td>4.0</td>\n",
       "      <td>15.5</td>\n",
       "      <td>3.429675e+07</td>\n",
       "    </tr>\n",
       "    <tr>\n",
       "      <th>2022-05-01</th>\n",
       "      <td>2022.0</td>\n",
       "      <td>5.0</td>\n",
       "      <td>16.0</td>\n",
       "      <td>2.551167e+07</td>\n",
       "    </tr>\n",
       "  </tbody>\n",
       "</table>\n",
       "</div>"
      ],
      "text/plain": [
       "              Year  Month   Day         Sales\n",
       "Date                                         \n",
       "2022-01-01  2022.0    1.0  16.0  3.447437e+07\n",
       "2022-02-01  2022.0    2.0  14.5  3.700581e+07\n",
       "2022-03-01  2022.0    3.0  16.0  3.516177e+07\n",
       "2022-04-01  2022.0    4.0  15.5  3.429675e+07\n",
       "2022-05-01  2022.0    5.0  16.0  2.551167e+07"
      ]
     },
     "execution_count": 18,
     "metadata": {},
     "output_type": "execute_result"
    }
   ],
   "source": [
    "sales_2022 = monthly_mean['2022':]\n",
    "sales_2022.head()"
   ]
  },
  {
   "cell_type": "markdown",
   "metadata": {
    "id": "JRzMX7C8wZ7c"
   },
   "source": [
    "## Topic 6: Visualizations"
   ]
  },
  {
   "cell_type": "code",
   "execution_count": 19,
   "metadata": {
    "colab": {
     "base_uri": "https://localhost:8080/",
     "height": 457
    },
    "id": "lo2AoaywlP-M",
    "outputId": "fff66a1a-95c4-4782-ffaa-c9713ee38cfb"
   },
   "outputs": [
    {
     "data": {
      "text/html": [
       "<div>\n",
       "<style scoped>\n",
       "    .dataframe tbody tr th:only-of-type {\n",
       "        vertical-align: middle;\n",
       "    }\n",
       "\n",
       "    .dataframe tbody tr th {\n",
       "        vertical-align: top;\n",
       "    }\n",
       "\n",
       "    .dataframe thead th {\n",
       "        text-align: right;\n",
       "    }\n",
       "</style>\n",
       "<table border=\"1\" class=\"dataframe\">\n",
       "  <thead>\n",
       "    <tr style=\"text-align: right;\">\n",
       "      <th></th>\n",
       "      <th>Year</th>\n",
       "      <th>Month</th>\n",
       "      <th>Day</th>\n",
       "      <th>Sales</th>\n",
       "    </tr>\n",
       "    <tr>\n",
       "      <th>Date</th>\n",
       "      <th></th>\n",
       "      <th></th>\n",
       "      <th></th>\n",
       "      <th></th>\n",
       "    </tr>\n",
       "  </thead>\n",
       "  <tbody>\n",
       "    <tr>\n",
       "      <th>2021-01-01</th>\n",
       "      <td>2021.0</td>\n",
       "      <td>1.0</td>\n",
       "      <td>16.000000</td>\n",
       "      <td>2.739022e+07</td>\n",
       "    </tr>\n",
       "    <tr>\n",
       "      <th>2021-02-01</th>\n",
       "      <td>2021.0</td>\n",
       "      <td>2.0</td>\n",
       "      <td>14.500000</td>\n",
       "      <td>2.908218e+07</td>\n",
       "    </tr>\n",
       "    <tr>\n",
       "      <th>2021-03-01</th>\n",
       "      <td>2021.0</td>\n",
       "      <td>3.0</td>\n",
       "      <td>16.000000</td>\n",
       "      <td>2.954600e+07</td>\n",
       "    </tr>\n",
       "    <tr>\n",
       "      <th>2021-08-01</th>\n",
       "      <td>2021.0</td>\n",
       "      <td>8.0</td>\n",
       "      <td>16.000000</td>\n",
       "      <td>3.097381e+07</td>\n",
       "    </tr>\n",
       "    <tr>\n",
       "      <th>2021-06-01</th>\n",
       "      <td>2021.0</td>\n",
       "      <td>6.0</td>\n",
       "      <td>14.884615</td>\n",
       "      <td>3.541568e+07</td>\n",
       "    </tr>\n",
       "    <tr>\n",
       "      <th>2021-11-01</th>\n",
       "      <td>2021.0</td>\n",
       "      <td>11.0</td>\n",
       "      <td>15.500000</td>\n",
       "      <td>3.626044e+07</td>\n",
       "    </tr>\n",
       "    <tr>\n",
       "      <th>2021-12-01</th>\n",
       "      <td>2021.0</td>\n",
       "      <td>12.0</td>\n",
       "      <td>16.000000</td>\n",
       "      <td>3.728185e+07</td>\n",
       "    </tr>\n",
       "    <tr>\n",
       "      <th>2021-05-01</th>\n",
       "      <td>2021.0</td>\n",
       "      <td>5.0</td>\n",
       "      <td>16.000000</td>\n",
       "      <td>3.779107e+07</td>\n",
       "    </tr>\n",
       "    <tr>\n",
       "      <th>2021-09-01</th>\n",
       "      <td>2021.0</td>\n",
       "      <td>9.0</td>\n",
       "      <td>15.500000</td>\n",
       "      <td>3.911647e+07</td>\n",
       "    </tr>\n",
       "    <tr>\n",
       "      <th>2021-07-01</th>\n",
       "      <td>2021.0</td>\n",
       "      <td>7.0</td>\n",
       "      <td>16.000000</td>\n",
       "      <td>4.017007e+07</td>\n",
       "    </tr>\n",
       "    <tr>\n",
       "      <th>2021-04-01</th>\n",
       "      <td>2021.0</td>\n",
       "      <td>4.0</td>\n",
       "      <td>15.500000</td>\n",
       "      <td>4.376903e+07</td>\n",
       "    </tr>\n",
       "    <tr>\n",
       "      <th>2021-10-01</th>\n",
       "      <td>2021.0</td>\n",
       "      <td>10.0</td>\n",
       "      <td>16.000000</td>\n",
       "      <td>4.650839e+07</td>\n",
       "    </tr>\n",
       "  </tbody>\n",
       "</table>\n",
       "</div>"
      ],
      "text/plain": [
       "              Year  Month        Day         Sales\n",
       "Date                                              \n",
       "2021-01-01  2021.0    1.0  16.000000  2.739022e+07\n",
       "2021-02-01  2021.0    2.0  14.500000  2.908218e+07\n",
       "2021-03-01  2021.0    3.0  16.000000  2.954600e+07\n",
       "2021-08-01  2021.0    8.0  16.000000  3.097381e+07\n",
       "2021-06-01  2021.0    6.0  14.884615  3.541568e+07\n",
       "2021-11-01  2021.0   11.0  15.500000  3.626044e+07\n",
       "2021-12-01  2021.0   12.0  16.000000  3.728185e+07\n",
       "2021-05-01  2021.0    5.0  16.000000  3.779107e+07\n",
       "2021-09-01  2021.0    9.0  15.500000  3.911647e+07\n",
       "2021-07-01  2021.0    7.0  16.000000  4.017007e+07\n",
       "2021-04-01  2021.0    4.0  15.500000  4.376903e+07\n",
       "2021-10-01  2021.0   10.0  16.000000  4.650839e+07"
      ]
     },
     "execution_count": 19,
     "metadata": {},
     "output_type": "execute_result"
    }
   ],
   "source": [
    "result=sales_2021.sort_values('Sales')\n",
    "result"
   ]
  },
  {
   "cell_type": "code",
   "execution_count": 20,
   "metadata": {
    "colab": {
     "base_uri": "https://localhost:8080/",
     "height": 717
    },
    "id": "vYj2qE1nlWxl",
    "outputId": "77f5f27e-1da4-4384-e470-68fa6d4cae66"
   },
   "outputs": [
    {
     "data": {
      "image/png": "[encoded data removed]",
      "text/plain": [
       "<Figure size 1152x720 with 1 Axes>"
      ]
     },
     "metadata": {
      "needs_background": "light"
     },
     "output_type": "display_data"
    }
   ],
   "source": [
    "# Plotting sales per month in 2021\n",
    "plt.figure(figsize=(16,10))\n",
    "sns.barplot(data=result, x=result.index, y=\"Sales\",)\n",
    "plt.xticks(rotation=85)\n",
    "plt.title(\"2021 Monthly sales in Billions From lowest sales to highest\")\n",
    "plt.show()"
   ]
  },
  {
   "cell_type": "markdown",
   "metadata": {
    "id": "gzDZxZDhl7j1"
   },
   "source": [
    "From the Analysis above you realize that `January` had the lowest sales in 2021 while `october` had the highest sales."
   ]
  },
  {
   "cell_type": "code",
   "execution_count": 21,
   "metadata": {
    "colab": {
     "base_uri": "https://localhost:8080/",
     "height": 394
    },
    "id": "6Pdsrnr4lZzM",
    "outputId": "6b0fc7fe-3374-4c2f-ba24-4e200700dce8"
   },
   "outputs": [
    {
     "data": {
      "text/html": [
       "<div>\n",
       "<style scoped>\n",
       "    .dataframe tbody tr th:only-of-type {\n",
       "        vertical-align: middle;\n",
       "    }\n",
       "\n",
       "    .dataframe tbody tr th {\n",
       "        vertical-align: top;\n",
       "    }\n",
       "\n",
       "    .dataframe thead th {\n",
       "        text-align: right;\n",
       "    }\n",
       "</style>\n",
       "<table border=\"1\" class=\"dataframe\">\n",
       "  <thead>\n",
       "    <tr style=\"text-align: right;\">\n",
       "      <th></th>\n",
       "      <th>Year</th>\n",
       "      <th>Month</th>\n",
       "      <th>Day</th>\n",
       "      <th>Sales</th>\n",
       "    </tr>\n",
       "    <tr>\n",
       "      <th>Date</th>\n",
       "      <th></th>\n",
       "      <th></th>\n",
       "      <th></th>\n",
       "      <th></th>\n",
       "    </tr>\n",
       "  </thead>\n",
       "  <tbody>\n",
       "    <tr>\n",
       "      <th>2022-08-01</th>\n",
       "      <td>2022.0</td>\n",
       "      <td>8.0</td>\n",
       "      <td>16.0</td>\n",
       "      <td>2.279207e+07</td>\n",
       "    </tr>\n",
       "    <tr>\n",
       "      <th>2022-09-01</th>\n",
       "      <td>2022.0</td>\n",
       "      <td>9.0</td>\n",
       "      <td>15.5</td>\n",
       "      <td>2.332838e+07</td>\n",
       "    </tr>\n",
       "    <tr>\n",
       "      <th>2022-05-01</th>\n",
       "      <td>2022.0</td>\n",
       "      <td>5.0</td>\n",
       "      <td>16.0</td>\n",
       "      <td>2.551167e+07</td>\n",
       "    </tr>\n",
       "    <tr>\n",
       "      <th>2022-10-01</th>\n",
       "      <td>2022.0</td>\n",
       "      <td>10.0</td>\n",
       "      <td>11.0</td>\n",
       "      <td>3.005840e+07</td>\n",
       "    </tr>\n",
       "    <tr>\n",
       "      <th>2022-06-01</th>\n",
       "      <td>2022.0</td>\n",
       "      <td>6.0</td>\n",
       "      <td>15.5</td>\n",
       "      <td>3.154025e+07</td>\n",
       "    </tr>\n",
       "    <tr>\n",
       "      <th>2022-07-01</th>\n",
       "      <td>2022.0</td>\n",
       "      <td>7.0</td>\n",
       "      <td>16.0</td>\n",
       "      <td>3.160384e+07</td>\n",
       "    </tr>\n",
       "    <tr>\n",
       "      <th>2022-04-01</th>\n",
       "      <td>2022.0</td>\n",
       "      <td>4.0</td>\n",
       "      <td>15.5</td>\n",
       "      <td>3.429675e+07</td>\n",
       "    </tr>\n",
       "    <tr>\n",
       "      <th>2022-01-01</th>\n",
       "      <td>2022.0</td>\n",
       "      <td>1.0</td>\n",
       "      <td>16.0</td>\n",
       "      <td>3.447437e+07</td>\n",
       "    </tr>\n",
       "    <tr>\n",
       "      <th>2022-03-01</th>\n",
       "      <td>2022.0</td>\n",
       "      <td>3.0</td>\n",
       "      <td>16.0</td>\n",
       "      <td>3.516177e+07</td>\n",
       "    </tr>\n",
       "    <tr>\n",
       "      <th>2022-02-01</th>\n",
       "      <td>2022.0</td>\n",
       "      <td>2.0</td>\n",
       "      <td>14.5</td>\n",
       "      <td>3.700581e+07</td>\n",
       "    </tr>\n",
       "  </tbody>\n",
       "</table>\n",
       "</div>"
      ],
      "text/plain": [
       "              Year  Month   Day         Sales\n",
       "Date                                         \n",
       "2022-08-01  2022.0    8.0  16.0  2.279207e+07\n",
       "2022-09-01  2022.0    9.0  15.5  2.332838e+07\n",
       "2022-05-01  2022.0    5.0  16.0  2.551167e+07\n",
       "2022-10-01  2022.0   10.0  11.0  3.005840e+07\n",
       "2022-06-01  2022.0    6.0  15.5  3.154025e+07\n",
       "2022-07-01  2022.0    7.0  16.0  3.160384e+07\n",
       "2022-04-01  2022.0    4.0  15.5  3.429675e+07\n",
       "2022-01-01  2022.0    1.0  16.0  3.447437e+07\n",
       "2022-03-01  2022.0    3.0  16.0  3.516177e+07\n",
       "2022-02-01  2022.0    2.0  14.5  3.700581e+07"
      ]
     },
     "execution_count": 21,
     "metadata": {},
     "output_type": "execute_result"
    }
   ],
   "source": [
    "result_2=sales_2022.sort_values('Sales')\n",
    "result_2"
   ]
  },
  {
   "cell_type": "code",
   "execution_count": 22,
   "metadata": {
    "colab": {
     "base_uri": "https://localhost:8080/",
     "height": 717
    },
    "id": "uSfGlwx_lmua",
    "outputId": "d03d7001-a581-4049-836c-5cb7ea9f9e70"
   },
   "outputs": [
    {
     "data": {
      "image/png": "[encoded data removed]",
      "text/plain": [
       "<Figure size 1152x720 with 1 Axes>"
      ]
     },
     "metadata": {
      "needs_background": "light"
     },
     "output_type": "display_data"
    }
   ],
   "source": [
    "# Plotting sales per month in 2022\n",
    "plt.figure(figsize=(16,10))\n",
    "sns.barplot(data=result_2, x=result_2.index, y=\"Sales\",)\n",
    "plt.xticks(rotation=85)\n",
    "plt.title(\"2022 Monthly sales in Billions From lowest sales to highest\")\n",
    "plt.show()"
   ]
  },
  {
   "cell_type": "markdown",
   "metadata": {
    "id": "Hd4qJipOmDKw"
   },
   "source": [
    "From the Analysis above you realize that `August` had the lowest sales in 2022 while `february and January` had the highest sales."
   ]
  },
  {
   "cell_type": "markdown",
   "metadata": {
    "id": "VMmPHtI5j5oV"
   },
   "source": [
    "##### 2022 sales"
   ]
  },
  {
   "cell_type": "code",
   "execution_count": 23,
   "metadata": {
    "id": "m0uBimJ4in0W"
   },
   "outputs": [],
   "source": [
    "import matplotlib.dates as mpl_dates\n",
    "sales_2022.reset_index(inplace=True)\n",
    "sales_2022['Date']=sales_2022['Date'].apply(mpl_dates.date2num)\n",
    "sales_2022 = sales_2022.astype(float)"
   ]
  },
  {
   "cell_type": "code",
   "execution_count": 24,
   "metadata": {
    "id": "xI943HC3irmU"
   },
   "outputs": [],
   "source": [
    "x = sales_2022.Date\n",
    "y = sales_2022.Sales"
   ]
  },
  {
   "cell_type": "code",
   "execution_count": 25,
   "metadata": {
    "colab": {
     "base_uri": "https://localhost:8080/",
     "height": 530
    },
    "id": "MSEKdQZuAns-",
    "outputId": "dfa64bff-d93f-435d-eb21-a3dee248260d"
   },
   "outputs": [
    {
     "data": {
      "text/plain": [
       "[<matplotlib.lines.Line2D at 0x7f8cb9841990>]"
      ]
     },
     "execution_count": 25,
     "metadata": {},
     "output_type": "execute_result"
    },
    {
     "data": {
      "image/png": "[encoded data removed]",
      "text/plain": [
       "<Figure size 720x576 with 1 Axes>"
      ]
     },
     "metadata": {
      "needs_background": "light"
     },
     "output_type": "display_data"
    }
   ],
   "source": [
    "# display monthly sales for 2022\n",
    "plt.figure(figsize=(10,8))\n",
    "sns.lineplot(data=sales_2022, x=\"Date\", y=\"Sales\")\n",
    "plt.title('Monthly Sales in 2022')\n",
    "plt.ylabel(\"Sales\")\n",
    "\n",
    "#calculate equation for trendline\n",
    "z = np.polyfit(x, y, 1)\n",
    "p = np.poly1d(z)\n",
    "\n",
    "#add trendline to plot\n",
    "plt.plot(x, p(x),color=\"red\", linewidth=2, linestyle=\"--\")"
   ]
  },
  {
   "cell_type": "markdown",
   "metadata": {
    "id": "YFvfrUA3kOVm"
   },
   "source": [
    "2022 sales had a downward Trend"
   ]
  },
  {
   "cell_type": "markdown",
   "metadata": {
    "id": "TAL6g9sBkFBW"
   },
   "source": [
    "##### 2021 sales"
   ]
  },
  {
   "cell_type": "code",
   "execution_count": 26,
   "metadata": {
    "id": "vYX9u9U1i-7g"
   },
   "outputs": [],
   "source": [
    "import matplotlib.dates as mpl_dates\n",
    "sales_2021.reset_index(inplace=True)\n",
    "sales_2021['Date']=sales_2021['Date'].apply(mpl_dates.date2num)\n",
    "sales_2021 = sales_2021.astype(float)"
   ]
  },
  {
   "cell_type": "code",
   "execution_count": 27,
   "metadata": {
    "id": "lDjRpQXqjLva"
   },
   "outputs": [],
   "source": [
    "x = sales_2021.Date\n",
    "y = sales_2021.Sales"
   ]
  },
  {
   "cell_type": "code",
   "execution_count": 28,
   "metadata": {
    "colab": {
     "base_uri": "https://localhost:8080/",
     "height": 530
    },
    "id": "LxUzCGoiCz6Q",
    "outputId": "f040649f-1aa4-411b-bdd8-f258b1e9e7d2"
   },
   "outputs": [
    {
     "data": {
      "text/plain": [
       "[<matplotlib.lines.Line2D at 0x7f8cb97abc90>]"
      ]
     },
     "execution_count": 28,
     "metadata": {},
     "output_type": "execute_result"
    },
    {
     "data": {
      "image/png": "[encoded data removed]",
      "text/plain": [
       "<Figure size 720x576 with 1 Axes>"
      ]
     },
     "metadata": {
      "needs_background": "light"
     },
     "output_type": "display_data"
    }
   ],
   "source": [
    "# display monthly sales for 2021\n",
    "plt.figure(figsize=(10,8))\n",
    "sns.lineplot(data=sales_2021, x=\"Date\", y=\"Sales\")\n",
    "plt.title('Monthly Sales in 2021')\n",
    "plt.ylabel(\"Sales\")\n",
    "\n",
    "#calculate equation for trendline\n",
    "z = np.polyfit(x, y, 1)\n",
    "p = np.poly1d(z)\n",
    "\n",
    "#add trendline to plot\n",
    "plt.plot(x, p(x),color=\"red\", linewidth=2, linestyle=\"--\")"
   ]
  },
  {
   "cell_type": "markdown",
   "metadata": {
    "id": "MxFRAvUXkVL_"
   },
   "source": [
    "2021 sales had an upward trend"
   ]
  },
  {
   "cell_type": "markdown",
   "metadata": {
    "id": "jh0zWIp2HrDW"
   },
   "source": [
    "`To compare the 2021 and 2022 monthly sales using a single plot`\n",
    "[See Documentation](https://dev.to/kedarghule/how-to-combine-two-line-charts-in-seaborn-and-python-57ll)"
   ]
  },
  {
   "cell_type": "code",
   "execution_count": 29,
   "metadata": {
    "colab": {
     "base_uri": "https://localhost:8080/",
     "height": 435
    },
    "id": "xgiahaN5GlYx",
    "outputId": "f08a0092-587e-4c77-e1a0-8fa06c2f1911"
   },
   "outputs": [
    {
     "data": {
      "image/png": "[encoded data removed]",
      "text/plain": [
       "<Figure size 864x432 with 2 Axes>"
      ]
     },
     "metadata": {
      "needs_background": "light"
     },
     "output_type": "display_data"
    }
   ],
   "source": [
    "# Line Chart For Agricultural Land Cover\n",
    "fig, ax = plt.subplots(figsize=(12,6))\n",
    "lineplot = sns.lineplot(data=sales_2021, x=\"Date\", y=\"Sales\", \n",
    "                        label = 'sales in 2021', legend=False)\n",
    "sns.despine()\n",
    "plt.ylabel('sales')\n",
    "plt.title('Comparison between 2021 and 2022 Monthly Average sales in Billions for', pad=20);\n",
    "\n",
    "# Line Chart For Forest Cover\n",
    "ax2 = ax.twinx()\n",
    "lineplot2 = sns.lineplot(data=sales_2022, x=\"Date\", y=\"Sales\", ax=ax2, color=\"r\", \n",
    "                         label ='sales in 2022', legend=False) \n",
    "sns.despine(right=False)\n",
    "plt.ylabel('sales')\n",
    "ax.figure.legend();"
   ]
  },
  {
   "cell_type": "markdown",
   "metadata": {
    "id": "gtt0rIxrJkX7"
   },
   "source": [
    "The plot above has two scales for sales since there are two graphs.\n",
    "From the plot you realize that 2021 had an upward trend for the sales.\n",
    "* The Highest sales were in October(10 month) at  `4.6 billions`\n",
    "* The lowest sales were in February at  `2.7 billions`\n",
    "\n",
    "As shown, the sales have an Downward in the year 2022. \n",
    "* The Highest sales were in March at  `3.7 billions`\n",
    "* The lowest sales were in October at  `2.2 billions`"
   ]
  },
  {
   "cell_type": "code",
   "execution_count": 30,
   "metadata": {
    "colab": {
     "base_uri": "https://localhost:8080/",
     "height": 421
    },
    "id": "ps24Uj3PioHC",
    "outputId": "e12ebdb9-6c8a-499a-bd08-10e71e871227"
   },
   "outputs": [
    {
     "data": {
      "text/plain": [
       "Text(0.5, 0, 'Date')"
      ]
     },
     "execution_count": 30,
     "metadata": {},
     "output_type": "execute_result"
    },
    {
     "data": {
      "image/png": "[encoded data removed]",
      "text/plain": [
       "<Figure size 1080x432 with 1 Axes>"
      ]
     },
     "metadata": {
      "needs_background": "light"
     },
     "output_type": "display_data"
    }
   ],
   "source": [
    "# Plotting sales per month in 2021 and 2022\n",
    "fig, ax = plt.subplots(figsize=(15, 6))\n",
    "ax.plot(monthly_mean.index, monthly_mean.Sales)\n",
    "ax.set_title(\"Average Monthly sales from 2021 to 2022\")\n",
    "ax.set_ylabel(\"sales in billions\")\n",
    "ax.set_xlabel(\"Date\")\n"
   ]
  },
  {
   "cell_type": "markdown",
   "metadata": {
    "id": "5jvTUl95UVy4"
   },
   "source": [
    "##### `YEARLY SALES`"
   ]
  },
  {
   "cell_type": "code",
   "execution_count": 31,
   "metadata": {
    "colab": {
     "base_uri": "https://localhost:8080/",
     "height": 143
    },
    "id": "ZGQ6E02TRmDr",
    "outputId": "b0a87f62-1f79-4a50-8a8e-8b5401e6d7e3"
   },
   "outputs": [
    {
     "data": {
      "text/html": [
       "<div>\n",
       "<style scoped>\n",
       "    .dataframe tbody tr th:only-of-type {\n",
       "        vertical-align: middle;\n",
       "    }\n",
       "\n",
       "    .dataframe tbody tr th {\n",
       "        vertical-align: top;\n",
       "    }\n",
       "\n",
       "    .dataframe thead th {\n",
       "        text-align: right;\n",
       "    }\n",
       "</style>\n",
       "<table border=\"1\" class=\"dataframe\">\n",
       "  <thead>\n",
       "    <tr style=\"text-align: right;\">\n",
       "      <th></th>\n",
       "      <th>Year</th>\n",
       "      <th>Month</th>\n",
       "      <th>Day</th>\n",
       "      <th>Sales</th>\n",
       "    </tr>\n",
       "    <tr>\n",
       "      <th>Date</th>\n",
       "      <th></th>\n",
       "      <th></th>\n",
       "      <th></th>\n",
       "      <th></th>\n",
       "    </tr>\n",
       "  </thead>\n",
       "  <tbody>\n",
       "    <tr>\n",
       "      <th>2021-12-31</th>\n",
       "      <td>2021.0</td>\n",
       "      <td>6.531856</td>\n",
       "      <td>15.678670</td>\n",
       "      <td>3.614679e+07</td>\n",
       "    </tr>\n",
       "    <tr>\n",
       "      <th>2022-12-31</th>\n",
       "      <td>2022.0</td>\n",
       "      <td>5.374150</td>\n",
       "      <td>15.346939</td>\n",
       "      <td>3.053812e+07</td>\n",
       "    </tr>\n",
       "  </tbody>\n",
       "</table>\n",
       "</div>"
      ],
      "text/plain": [
       "              Year     Month        Day         Sales\n",
       "Date                                                 \n",
       "2021-12-31  2021.0  6.531856  15.678670  3.614679e+07\n",
       "2022-12-31  2022.0  5.374150  15.346939  3.053812e+07"
      ]
     },
     "execution_count": 31,
     "metadata": {},
     "output_type": "execute_result"
    }
   ],
   "source": [
    "yealy_sales= df.resample('A').mean()\n",
    "yealy_sales"
   ]
  },
  {
   "cell_type": "code",
   "execution_count": 32,
   "metadata": {
    "colab": {
     "base_uri": "https://localhost:8080/",
     "height": 621
    },
    "id": "UpWh34hCV7wO",
    "outputId": "cb942aed-e762-4fef-df3e-4d8835b983c7"
   },
   "outputs": [
    {
     "data": {
      "image/png": "[encoded data removed]",
      "text/plain": [
       "<Figure size 1152x720 with 1 Axes>"
      ]
     },
     "metadata": {
      "needs_background": "light"
     },
     "output_type": "display_data"
    }
   ],
   "source": [
    "# Plotting sales per year\n",
    "plt.figure(figsize=(16,10))\n",
    "sns.barplot(x=yealy_sales.index, y=yealy_sales['Sales'])\n",
    "plt.xticks(rotation=0)\n",
    "plt.title(\"Sales Per Year in Billions\")\n",
    "plt.show()"
   ]
  },
  {
   "cell_type": "code",
   "execution_count": 33,
   "metadata": {
    "colab": {
     "base_uri": "https://localhost:8080/",
     "height": 237
    },
    "id": "qkMC6hVRXSHh",
    "outputId": "6a767f9b-4e05-46cf-b344-4dd94bfc2b7f"
   },
   "outputs": [
    {
     "data": {
      "text/html": [
       "<div>\n",
       "<style scoped>\n",
       "    .dataframe tbody tr th:only-of-type {\n",
       "        vertical-align: middle;\n",
       "    }\n",
       "\n",
       "    .dataframe tbody tr th {\n",
       "        vertical-align: top;\n",
       "    }\n",
       "\n",
       "    .dataframe thead th {\n",
       "        text-align: right;\n",
       "    }\n",
       "</style>\n",
       "<table border=\"1\" class=\"dataframe\">\n",
       "  <thead>\n",
       "    <tr style=\"text-align: right;\">\n",
       "      <th></th>\n",
       "      <th>Year</th>\n",
       "      <th>Month</th>\n",
       "      <th>Day</th>\n",
       "      <th>Sales</th>\n",
       "    </tr>\n",
       "    <tr>\n",
       "      <th>Date</th>\n",
       "      <th></th>\n",
       "      <th></th>\n",
       "      <th></th>\n",
       "      <th></th>\n",
       "    </tr>\n",
       "  </thead>\n",
       "  <tbody>\n",
       "    <tr>\n",
       "      <th>2021-01-01</th>\n",
       "      <td>2021.0</td>\n",
       "      <td>1.0</td>\n",
       "      <td>16.0</td>\n",
       "      <td>2.739022e+07</td>\n",
       "    </tr>\n",
       "    <tr>\n",
       "      <th>2021-02-01</th>\n",
       "      <td>2021.0</td>\n",
       "      <td>2.0</td>\n",
       "      <td>14.5</td>\n",
       "      <td>2.908218e+07</td>\n",
       "    </tr>\n",
       "    <tr>\n",
       "      <th>2021-03-01</th>\n",
       "      <td>2021.0</td>\n",
       "      <td>3.0</td>\n",
       "      <td>16.0</td>\n",
       "      <td>2.954600e+07</td>\n",
       "    </tr>\n",
       "    <tr>\n",
       "      <th>2021-04-01</th>\n",
       "      <td>2021.0</td>\n",
       "      <td>4.0</td>\n",
       "      <td>15.5</td>\n",
       "      <td>4.376903e+07</td>\n",
       "    </tr>\n",
       "    <tr>\n",
       "      <th>2021-05-01</th>\n",
       "      <td>2021.0</td>\n",
       "      <td>5.0</td>\n",
       "      <td>16.0</td>\n",
       "      <td>3.779107e+07</td>\n",
       "    </tr>\n",
       "  </tbody>\n",
       "</table>\n",
       "</div>"
      ],
      "text/plain": [
       "              Year  Month   Day         Sales\n",
       "Date                                         \n",
       "2021-01-01  2021.0    1.0  16.0  2.739022e+07\n",
       "2021-02-01  2021.0    2.0  14.5  2.908218e+07\n",
       "2021-03-01  2021.0    3.0  16.0  2.954600e+07\n",
       "2021-04-01  2021.0    4.0  15.5  4.376903e+07\n",
       "2021-05-01  2021.0    5.0  16.0  3.779107e+07"
      ]
     },
     "execution_count": 33,
     "metadata": {},
     "output_type": "execute_result"
    }
   ],
   "source": [
    "monthly_mean.head()"
   ]
  },
  {
   "cell_type": "code",
   "execution_count": 34,
   "metadata": {
    "colab": {
     "base_uri": "https://localhost:8080/",
     "height": 417
    },
    "id": "nE8a7PHdWdwv",
    "outputId": "93299e96-b345-46f6-c4fb-6a66a160f9e5"
   },
   "outputs": [
    {
     "data": {
      "image/png": "[encoded data removed]",
      "text/plain": [
       "<Figure size 1080x432 with 1 Axes>"
      ]
     },
     "metadata": {
      "needs_background": "light"
     },
     "output_type": "display_data"
    }
   ],
   "source": [
    "# Plotting sales per month in 2021 and 2022\n",
    "fig, ax = plt.subplots(figsize=(15, 6))\n",
    "\n",
    "ax=sns.barplot(data=monthly_mean, x='Month', y=\"Sales\",hue = 'Year')\n",
    "plt.xticks(rotation=85)\n",
    "plt.title(\"2021 and 2022 side by side  Monthly sales in Billions\")\n",
    "plt.show()"
   ]
  },
  {
   "cell_type": "markdown",
   "metadata": {
    "id": "GJW8lM2aXuRS"
   },
   "source": [
    "## Topic 7: Trend Analysis"
   ]
  },
  {
   "cell_type": "markdown",
   "metadata": {
    "id": "uUhLA-vAyE1j"
   },
   "source": [
    "### 7.1:Stationarity in data\n",
    "- A time series is said to be stationary if its statistical properties such as mean, variance, etc. remain constant over time.\n",
    "- Why is it important? Because most time series models work on the assumption that `the time series are stationary`. For general time series datasets, if it shows a particular behavior over time, there is a very high probability that it will follow a similar behavior in the future. Also, the theories related to stationary series are more mature and easier to implement as compared to non-stationary series.\n"
   ]
  },
  {
   "cell_type": "markdown",
   "metadata": {
    "id": "YUvQgK4n1QSx"
   },
   "source": [
    "### 7.2: Testing for trends\n",
    "\n",
    "There are two formal ways to assess trends;\n",
    "- Rolling statistics\n",
    "- The Dickey-Fuller Test\n",
    "\n"
   ]
  },
  {
   "cell_type": "markdown",
   "metadata": {
    "id": "e34cSpK91u32"
   },
   "source": [
    "#### 7.2.1: Rolling statistics\n",
    "\n",
    "We can plot the moving average or moving variance and see if it varies with time. By moving average/variance we mean **at any point in time $t$, we can take the average/variance of the $m$ last time periods. $m$ is then known as the window size**. \n",
    "\n",
    "Pandas has a built-in method called [rolling()](https://pandas.pydata.org/pandas-docs/stable/generated/pandas.DataFrame.rolling.html), which can be called along with `.mean()` and `.std()` to calculate these rolling statistics. I will take a window size of 5."
   ]
  },
  {
   "cell_type": "code",
   "execution_count": 35,
   "metadata": {
    "colab": {
     "base_uri": "https://localhost:8080/",
     "height": 237
    },
    "id": "F2V6z-wMx4ov",
    "outputId": "369425c2-b278-402b-ff21-2f9217176ce2"
   },
   "outputs": [
    {
     "data": {
      "text/html": [
       "<div>\n",
       "<style scoped>\n",
       "    .dataframe tbody tr th:only-of-type {\n",
       "        vertical-align: middle;\n",
       "    }\n",
       "\n",
       "    .dataframe tbody tr th {\n",
       "        vertical-align: top;\n",
       "    }\n",
       "\n",
       "    .dataframe thead th {\n",
       "        text-align: right;\n",
       "    }\n",
       "</style>\n",
       "<table border=\"1\" class=\"dataframe\">\n",
       "  <thead>\n",
       "    <tr style=\"text-align: right;\">\n",
       "      <th></th>\n",
       "      <th>Year</th>\n",
       "      <th>Month</th>\n",
       "      <th>Day</th>\n",
       "      <th>Sales</th>\n",
       "    </tr>\n",
       "    <tr>\n",
       "      <th>Date</th>\n",
       "      <th></th>\n",
       "      <th></th>\n",
       "      <th></th>\n",
       "      <th></th>\n",
       "    </tr>\n",
       "  </thead>\n",
       "  <tbody>\n",
       "    <tr>\n",
       "      <th>2021-01-01</th>\n",
       "      <td>2021.0</td>\n",
       "      <td>1.0</td>\n",
       "      <td>16.0</td>\n",
       "      <td>2.739022e+07</td>\n",
       "    </tr>\n",
       "    <tr>\n",
       "      <th>2021-02-01</th>\n",
       "      <td>2021.0</td>\n",
       "      <td>2.0</td>\n",
       "      <td>14.5</td>\n",
       "      <td>2.908218e+07</td>\n",
       "    </tr>\n",
       "    <tr>\n",
       "      <th>2021-03-01</th>\n",
       "      <td>2021.0</td>\n",
       "      <td>3.0</td>\n",
       "      <td>16.0</td>\n",
       "      <td>2.954600e+07</td>\n",
       "    </tr>\n",
       "    <tr>\n",
       "      <th>2021-04-01</th>\n",
       "      <td>2021.0</td>\n",
       "      <td>4.0</td>\n",
       "      <td>15.5</td>\n",
       "      <td>4.376903e+07</td>\n",
       "    </tr>\n",
       "    <tr>\n",
       "      <th>2021-05-01</th>\n",
       "      <td>2021.0</td>\n",
       "      <td>5.0</td>\n",
       "      <td>16.0</td>\n",
       "      <td>3.779107e+07</td>\n",
       "    </tr>\n",
       "  </tbody>\n",
       "</table>\n",
       "</div>"
      ],
      "text/plain": [
       "              Year  Month   Day         Sales\n",
       "Date                                         \n",
       "2021-01-01  2021.0    1.0  16.0  2.739022e+07\n",
       "2021-02-01  2021.0    2.0  14.5  2.908218e+07\n",
       "2021-03-01  2021.0    3.0  16.0  2.954600e+07\n",
       "2021-04-01  2021.0    4.0  15.5  4.376903e+07\n",
       "2021-05-01  2021.0    5.0  16.0  3.779107e+07"
      ]
     },
     "execution_count": 35,
     "metadata": {},
     "output_type": "execute_result"
    }
   ],
   "source": [
    "monthly_mean.head()"
   ]
  },
  {
   "cell_type": "code",
   "execution_count": 36,
   "metadata": {
    "id": "_vEJ6hPTGiuO"
   },
   "outputs": [],
   "source": [
    "#Drop unnecessary Columns\n",
    "monthly_mean.drop(columns=['Year', 'Month','Day'], inplace=True)"
   ]
  },
  {
   "cell_type": "code",
   "execution_count": 37,
   "metadata": {
    "id": "ULT2RRzS5bIt"
   },
   "outputs": [],
   "source": [
    "roll_mean = monthly_mean.rolling(window=8, center=False).mean()\n",
    "roll_std = monthly_mean.rolling(window=8, center=False).std()"
   ]
  },
  {
   "cell_type": "code",
   "execution_count": 38,
   "metadata": {
    "colab": {
     "base_uri": "https://localhost:8080/",
     "height": 444
    },
    "id": "QEfqP-WK5utI",
    "outputId": "d2389f97-b1c9-4db5-c050-d313947a04fd"
   },
   "outputs": [
    {
     "data": {
      "image/png": "[encoded data removed]",
      "text/plain": [
       "<Figure size 864x504 with 1 Axes>"
      ]
     },
     "metadata": {
      "needs_background": "light"
     },
     "output_type": "display_data"
    }
   ],
   "source": [
    "fig = plt.figure(figsize=(12,7))\n",
    "plt.plot(monthly_mean, color='blue', label='Original')\n",
    "plt.plot(roll_mean, color='red', label='Rolling Mean')\n",
    "plt.plot(roll_std, color='black', label = 'Rolling Std')\n",
    "plt.legend(loc='best')\n",
    "plt.title('Rolling Mean & Standard Deviation')\n",
    "plt.show(block=False)"
   ]
  },
  {
   "cell_type": "markdown",
   "metadata": {
    "id": "wdCz17zq7BT2"
   },
   "source": [
    "`The red and black lines represent the rolling mean and rolling standard deviations. You can see that the mean is not constant over time, so we can reconfirm our conclusion that the time series is not stationary based on rolling mean and rolling standard error.`"
   ]
  },
  {
   "cell_type": "markdown",
   "metadata": {
    "id": "EKwm96b57H4D"
   },
   "source": [
    "#### 7.2.2: The Dickey-Fuller Test\n",
    "\n",
    "The `Dickey-Fuller test` is a statistical test for testing stationarity. The `null-hypothesis for the test is that the time series is not stationary.` So if the test statistic is less than the `critical(P) value`, we reject the null hypothesis and say that the series is stationary. The Dickey-Fuller test is available in `tsa.stattools` sub-module of the `statsmodels` library. More details on this can be viewed [here](http://www.statsmodels.org/dev/generated/statsmodels.tsa.stattools.adfuller.html)."
   ]
  },
  {
   "cell_type": "code",
   "execution_count": 39,
   "metadata": {
    "id": "khYg36DI7E_C"
   },
   "outputs": [],
   "source": [
    "from statsmodels.tsa.stattools import adfuller\n",
    "#Ho: time series is not stationary\n",
    "#H1: time series is stationary\n",
    "\n",
    "# a function to display the dickey-fuller test results\n",
    "def adfuller_test(sales_df):\n",
    "    result=adfuller(sales_df)\n",
    "    labels = ['ADF Test Statistic','p-value','#Lags Used','Number of Observations Used']\n",
    "    for value,label in zip(result,labels):\n",
    "        print(label+' : '+str(value) )\n",
    "    if result[1] <= 0.05:\n",
    "        print(\"strong evidence against the null hypothesis(Ho), reject the null hypothesis. Data is stationary\")\n",
    "    else:\n",
    "        print(\"weak evidence against null hypothesis, indicating it is non-stationary \")\n",
    "    "
   ]
  },
  {
   "cell_type": "code",
   "execution_count": 40,
   "metadata": {
    "colab": {
     "base_uri": "https://localhost:8080/"
    },
    "id": "q3SB_rV8-CYy",
    "outputId": "cff3107c-d203-4cc5-9beb-ff1f202d1c35"
   },
   "outputs": [
    {
     "name": "stdout",
     "output_type": "stream",
     "text": [
      "ADF Test Statistic : -2.7607934781601706\n",
      "p-value : 0.06409604971703035\n",
      "#Lags Used : 0\n",
      "Number of Observations Used : 21\n",
      "weak evidence against null hypothesis, indicating it is non-stationary \n"
     ]
    }
   ],
   "source": [
    "adfuller_test(monthly_mean['Sales'])"
   ]
  },
  {
   "cell_type": "markdown",
   "metadata": {
    "id": "DEc6xaKKvIs5"
   },
   "source": [
    "To interpret the test results, you only need to look at the `p value.` And you use the following simple method:\n",
    "\n",
    "`If p< 0.05 ; Data is stationary`\n",
    "\n",
    "`If p>0.05; Data is not stationary`\n",
    "\n",
    "It’s not a hard and fast rule, but a stationary data should have a `small p value.` `Larger p value` could indicate presence of certain trends(varying mean) or seasonality as well."
   ]
  },
  {
   "cell_type": "markdown",
   "metadata": {
    "id": "hiuuzM_MWhCR"
   },
   "source": [
    "## Topic 8:Removing Trends\n",
    "\n",
    "Although the stationarity assumption is required in several time series modeling techniques, few practical time series are stationary.Thus the need to make a time series stationary.It is almost impossible to make a series perfectly stationary."
   ]
  },
  {
   "cell_type": "markdown",
   "metadata": {
    "id": "uIC5uoy_XV-F"
   },
   "source": [
    "### 8.1: Differencing\n",
    "\n",
    "One of the most common methods of dealing with both trend and seasonality is differencing. In this technique, we take the difference of an observation at a particular time instant with that at the previous instant (i.e. a so-called 1-period \"lag\").\n",
    "\n",
    "This mostly works pretty well in improving stationarity. First-order differencing can be done in Pandas using the .diff() method with periods=1 (denoting a 1-period lag). Documentation on `.diff()` can be found [here](https://pandas.pydata.org/pandas-docs/stable/generated/pandas.DataFrame.diff.html)."
   ]
  },
  {
   "cell_type": "code",
   "execution_count": 41,
   "metadata": {
    "colab": {
     "base_uri": "https://localhost:8080/",
     "height": 237
    },
    "id": "WM3jDML9WgOL",
    "outputId": "16172413-3e8c-4286-8c4c-7c82057ca36c"
   },
   "outputs": [
    {
     "data": {
      "text/html": [
       "<div>\n",
       "<style scoped>\n",
       "    .dataframe tbody tr th:only-of-type {\n",
       "        vertical-align: middle;\n",
       "    }\n",
       "\n",
       "    .dataframe tbody tr th {\n",
       "        vertical-align: top;\n",
       "    }\n",
       "\n",
       "    .dataframe thead th {\n",
       "        text-align: right;\n",
       "    }\n",
       "</style>\n",
       "<table border=\"1\" class=\"dataframe\">\n",
       "  <thead>\n",
       "    <tr style=\"text-align: right;\">\n",
       "      <th></th>\n",
       "      <th>Sales</th>\n",
       "    </tr>\n",
       "    <tr>\n",
       "      <th>Date</th>\n",
       "      <th></th>\n",
       "    </tr>\n",
       "  </thead>\n",
       "  <tbody>\n",
       "    <tr>\n",
       "      <th>2021-01-01</th>\n",
       "      <td>NaN</td>\n",
       "    </tr>\n",
       "    <tr>\n",
       "      <th>2021-02-01</th>\n",
       "      <td>1.691956e+06</td>\n",
       "    </tr>\n",
       "    <tr>\n",
       "      <th>2021-03-01</th>\n",
       "      <td>4.638245e+05</td>\n",
       "    </tr>\n",
       "    <tr>\n",
       "      <th>2021-04-01</th>\n",
       "      <td>1.422302e+07</td>\n",
       "    </tr>\n",
       "    <tr>\n",
       "      <th>2021-05-01</th>\n",
       "      <td>-5.977952e+06</td>\n",
       "    </tr>\n",
       "  </tbody>\n",
       "</table>\n",
       "</div>"
      ],
      "text/plain": [
       "                   Sales\n",
       "Date                    \n",
       "2021-01-01           NaN\n",
       "2021-02-01  1.691956e+06\n",
       "2021-03-01  4.638245e+05\n",
       "2021-04-01  1.422302e+07\n",
       "2021-05-01 -5.977952e+06"
      ]
     },
     "execution_count": 41,
     "metadata": {},
     "output_type": "execute_result"
    }
   ],
   "source": [
    "#Performing differencing\n",
    "month_mean_diff = monthly_mean.diff(periods=1)\n",
    "month_mean_diff.head()"
   ]
  },
  {
   "cell_type": "code",
   "execution_count": 42,
   "metadata": {
    "colab": {
     "base_uri": "https://localhost:8080/",
     "height": 444
    },
    "id": "lsjdCJFvYReP",
    "outputId": "6b40feb1-3e7b-41fa-8254-c37e22648851"
   },
   "outputs": [
    {
     "data": {
      "image/png": "[encoded data removed]",
      "text/plain": [
       "<Figure size 792x504 with 1 Axes>"
      ]
     },
     "metadata": {
      "needs_background": "light"
     },
     "output_type": "display_data"
    }
   ],
   "source": [
    "#plot the monthly sales after trend removal\n",
    "fig = plt.figure(figsize=(11,7))\n",
    "plt.plot(month_mean_diff, color='blue',label='Sales - rolling mean')\n",
    "plt.legend(loc='best')\n",
    "plt.title('Differenced sales series')\n",
    "plt.show(block=False)"
   ]
  },
  {
   "cell_type": "code",
   "execution_count": 43,
   "metadata": {
    "colab": {
     "base_uri": "https://localhost:8080/"
    },
    "id": "l8u2tII1Y2rN",
    "outputId": "6ebf4171-fdcb-4b38-b501-fd6d8010f82c"
   },
   "outputs": [
    {
     "name": "stdout",
     "output_type": "stream",
     "text": [
      "ADF Test Statistic : -3.789882882218755\n",
      "p-value : 0.0030125391432932035\n",
      "#Lags Used : 2\n",
      "Number of Observations Used : 18\n",
      "strong evidence against the null hypothesis(Ho), reject the null hypothesis. Data is stationary\n"
     ]
    }
   ],
   "source": [
    "adfuller_test(month_mean_diff['Sales'].dropna())"
   ]
  },
  {
   "cell_type": "markdown",
   "metadata": {
    "id": "zMkbOfc5ZoGX"
   },
   "source": [
    "This seems to work pretty well if you want to make the series stationary!"
   ]
  },
  {
   "cell_type": "markdown",
   "metadata": {
    "id": "qPnnKU7ZctbR"
   },
   "source": [
    "## Topic 9: Predictive Modeling Time Series Data\n",
    "\n",
    " \n"
   ]
  },
  {
   "cell_type": "markdown",
   "metadata": {
    "id": "axvEYzqNjlw4"
   },
   "source": [
    "### 9.1:Model : Seasonal Autoregressive Integrated Moving Average (SARIMA)\n",
    "ARIMA MODEL is composed of 3 terms(`Auto-Regression` + `Integrated`+ `Moving-Average`)\n",
    "\n",
    "`ARIMA` models are denoted by `ARIMA(p, d, q).`\n",
    "\n",
    "1. `Auto-Regression:`\n",
    "\n",
    "This basically means that you are using the `previous values` of the time series in order to `predict the future.` How many past values you use, determine the order of the AR model. \n",
    "\n",
    "AR will regress to itself With a time lag.Here’s how an AR(1) model `i.e we are taking p=1 (taking the previous month to calculate the current month of the sales)`looks like:\n",
    "\n",
    "`Yt = Bo + B1(Yt-1) +B2(Yt-2) +B3(Yt-3)`\n",
    "\n",
    "\n",
    "2. `Integrated:`\n",
    "\n",
    "If you are data set is not `stationary`, you most often need to perform some sort of `difference` operation to make it stationary. If you are differencing with previous value, its `order 1` and so on.Depending on your data, you might have to repeat the differencing to get a second order differencing , third order and so on.\n",
    "\n",
    "3.  Moving Average:\n",
    "\n",
    "This basically means that you are using previous `errors` to make the future prediction.  By seeing how wrong you were in your prediction, you take that into account to make a better prediction. And just like in an AR model, the number of previous errors(also called `number of lags`) you use, determines the order of the model.\n",
    "\n",
    "Here’s how MA(1) order equation looks like:\n",
    " \n",
    "`Y(t)= Mean + Some_Constant*Error(t-1) +Error(t)`"
   ]
  },
  {
   "cell_type": "markdown",
   "metadata": {
    "id": "BxxsXKNU1Ng9"
   },
   "source": [
    "So our main job is to decide the order of the `AR, I, MA` parts which are donated by`(p,d,q)` respectively.\n",
    " "
   ]
  },
  {
   "cell_type": "markdown",
   "metadata": {
    "id": "IynT7SuN4uXX"
   },
   "source": [
    "#### 9.1.1: Split the Dataset into training and testing data.\n",
    "\n",
    "Before training the model, I will split the data set into two sections i.e `training data` and `testing data`. This is done because the model has to be `trained` first on the `training data` and the testing data is hidden from the model. Once model is ready, we ask it to make predictions on the `test data` and see how well it performs."
   ]
  },
  {
   "cell_type": "code",
   "execution_count": 44,
   "metadata": {
    "id": "AIU7zQhaO4MJ"
   },
   "outputs": [],
   "source": [
    "data_diff = month_mean_diff['Sales'].dropna()"
   ]
  },
  {
   "cell_type": "code",
   "execution_count": 45,
   "metadata": {
    "colab": {
     "base_uri": "https://localhost:8080/"
    },
    "id": "lw1Af3NO7hdm",
    "outputId": "6429c886-9ca7-4d3a-8423-cc53f9786c56"
   },
   "outputs": [
    {
     "name": "stdout",
     "output_type": "stream",
     "text": [
      "(16, 1) (6, 1)\n"
     ]
    }
   ],
   "source": [
    "#split the data into training and testing data\n",
    "y_train = monthly_mean[:len(monthly_mean) - 6] # taking first 16 months sales as training data\n",
    "y_test = monthly_mean[len(monthly_mean) - 6:]  # taking last 6 months sales as testing data\n",
    "\n",
    "print(y_train.shape,y_test.shape)"
   ]
  },
  {
   "cell_type": "markdown",
   "metadata": {
    "id": "N3hCOPas8j4z"
   },
   "source": [
    "I am reserving the last 6 months of the data as the testing data for our model."
   ]
  },
  {
   "cell_type": "markdown",
   "metadata": {
    "id": "d8dytzvI7Fi8"
   },
   "source": [
    "#### 9.1.2 ACF and PACF"
   ]
  },
  {
   "cell_type": "code",
   "execution_count": 46,
   "metadata": {
    "colab": {
     "base_uri": "https://localhost:8080/",
     "height": 227
    },
    "id": "h9XuO2616__m",
    "outputId": "9f684f0f-b360-448d-b45c-f8332a084e7e"
   },
   "outputs": [
    {
     "ename": "ModuleNotFoundError",
     "evalue": "No module named 'tensorflow'",
     "output_type": "error",
     "traceback": [
      "\u001b[0;31m---------------------------------------------------------------------------\u001b[0m",
      "\u001b[0;31mModuleNotFoundError\u001b[0m                       Traceback (most recent call last)",
      "\u001b[0;32m<ipython-input-46-48ee76a48ea6>\u001b[0m in \u001b[0;36m<module>\u001b[0;34m\u001b[0m\n\u001b[1;32m      1\u001b[0m \u001b[0;31m# Plot the ACF\u001b[0m\u001b[0;34m\u001b[0m\u001b[0;34m\u001b[0m\u001b[0;34m\u001b[0m\u001b[0m\n\u001b[1;32m      2\u001b[0m \u001b[0;32mfrom\u001b[0m \u001b[0mstatsmodels\u001b[0m\u001b[0;34m.\u001b[0m\u001b[0mgraphics\u001b[0m\u001b[0;34m.\u001b[0m\u001b[0mtsaplots\u001b[0m \u001b[0;32mimport\u001b[0m \u001b[0mplot_acf\u001b[0m\u001b[0;34m\u001b[0m\u001b[0;34m\u001b[0m\u001b[0m\n\u001b[0;32m----> 3\u001b[0;31m \u001b[0;32mfrom\u001b[0m \u001b[0mtensorflow\u001b[0m\u001b[0;34m.\u001b[0m\u001b[0mpython\u001b[0m \u001b[0;32mimport\u001b[0m \u001b[0mtrain\u001b[0m\u001b[0;34m\u001b[0m\u001b[0;34m\u001b[0m\u001b[0m\n\u001b[0m\u001b[1;32m      4\u001b[0m \u001b[0mfig\u001b[0m\u001b[0;34m,\u001b[0m \u001b[0max\u001b[0m \u001b[0;34m=\u001b[0m \u001b[0mplt\u001b[0m\u001b[0;34m.\u001b[0m\u001b[0msubplots\u001b[0m\u001b[0;34m(\u001b[0m\u001b[0mfigsize\u001b[0m\u001b[0;34m=\u001b[0m\u001b[0;34m(\u001b[0m\u001b[0;36m8\u001b[0m\u001b[0;34m,\u001b[0m\u001b[0;36m3\u001b[0m\u001b[0;34m)\u001b[0m\u001b[0;34m)\u001b[0m\u001b[0;34m\u001b[0m\u001b[0;34m\u001b[0m\u001b[0m\n\u001b[1;32m      5\u001b[0m \u001b[0mplot_acf\u001b[0m\u001b[0;34m(\u001b[0m\u001b[0my_train\u001b[0m\u001b[0;34m,\u001b[0m\u001b[0max\u001b[0m\u001b[0;34m=\u001b[0m\u001b[0max\u001b[0m\u001b[0;34m,\u001b[0m \u001b[0mlags\u001b[0m\u001b[0;34m=\u001b[0m\u001b[0;36m8\u001b[0m\u001b[0;34m)\u001b[0m\u001b[0;34m;\u001b[0m\u001b[0;34m\u001b[0m\u001b[0;34m\u001b[0m\u001b[0m\n",
      "\u001b[0;31mModuleNotFoundError\u001b[0m: No module named 'tensorflow'"
     ]
    }
   ],
   "source": [
    "# Plot the ACF\n",
    "from statsmodels.graphics.tsaplots import plot_acf\n",
    "from tensorflow.python import train\n",
    "fig, ax = plt.subplots(figsize=(8,3))\n",
    "plot_acf(y_train,ax=ax, lags=8);"
   ]
  },
  {
   "cell_type": "code",
   "execution_count": null,
   "metadata": {
    "colab": {
     "base_uri": "https://localhost:8080/",
     "height": 227
    },
    "id": "kKpQ3Fam7R5Z",
    "outputId": "b1349809-82f1-4d63-c6d9-5a9f8c82c7aa"
   },
   "outputs": [],
   "source": [
    "# Plot the PACF\n",
    "from statsmodels.graphics.tsaplots import plot_pacf\n",
    "fig, ax = plt.subplots(figsize=(8,3))\n",
    "plot_pacf(y_train['Sales'], ax = ax, lags=7);"
   ]
  },
  {
   "cell_type": "markdown",
   "metadata": {
    "id": "JHNFXe_28Vby"
   },
   "source": [
    "### 9.2:Fitting the SARIMAX Model "
   ]
  },
  {
   "cell_type": "code",
   "execution_count": null,
   "metadata": {
    "colab": {
     "base_uri": "https://localhost:8080/",
     "height": 511
    },
    "id": "mIKgaAgI8UoW",
    "outputId": "ecd3c6c7-489f-4579-d5da-dfcf11a4e83e"
   },
   "outputs": [],
   "source": [
    "# creating the SARIMAX model\n",
    "from statsmodels.tsa.statespace.sarimax import SARIMAX\n",
    "model = SARIMAX(y_train['Sales'],order=(1, 1, 2),seasonal_order=(1,1,1,12))\n",
    "results = model.fit()\n",
    "results.summary()"
   ]
  },
  {
   "cell_type": "markdown",
   "metadata": {
    "id": "6dZfEBcC8tv4"
   },
   "source": [
    "#### 9.2.1 Hyperparameter Tuning\n",
    "##### Determing p,d,q combinations with AIC scores."
   ]
  },
  {
   "cell_type": "code",
   "execution_count": null,
   "metadata": {
    "id": "DU7aO3dn8mSc"
   },
   "outputs": [],
   "source": [
    "# parameters for sarima\n",
    "p = range(0,2)\n",
    "d = range(0,2)\n",
    "q = range(0,2)\n",
    "\n",
    "pdq = list(itertools.product(p,d,q))\n",
    "\n",
    "seasonal_pdq = [(x[0], x[1], x[2], 12) for x in pdq] # ALl combinations"
   ]
  },
  {
   "cell_type": "code",
   "execution_count": null,
   "metadata": {
    "colab": {
     "base_uri": "https://localhost:8080/"
    },
    "id": "dycj_NGU9GIn",
    "outputId": "27c26e4e-cb43-481f-b6b6-448752273d9f"
   },
   "outputs": [],
   "source": [
    "# Determing p,d,q combinations with AIC scores.\n",
    "for param in pdq:\n",
    "    for param_seasonal in seasonal_pdq:\n",
    "        try:\n",
    "            mod = sm.tsa.statespace.SARIMAX(train,\n",
    "                                            order=param,\n",
    "                                            seasonal_order=param_seasonal,\n",
    "                                            enforce_stationarity=False,\n",
    "                                            enforce_invertibility=False)\n",
    "            results = mod.fit()\n",
    "\n",
    "        except:\n",
    "            continue\n",
    "print('ARIMA{}x{}12 - AIC:{}'.format(param, param_seasonal, results.aic))"
   ]
  },
  {
   "cell_type": "code",
   "execution_count": null,
   "metadata": {
    "colab": {
     "base_uri": "https://localhost:8080/",
     "height": 553
    },
    "id": "n5w4pKbU9qHW",
    "outputId": "b6e1373c-fc88-4424-a42c-a04318eec488"
   },
   "outputs": [],
   "source": [
    "#fitting the model with the combinations from tuning \n",
    "from statsmodels.tsa.statespace.sarimax import SARIMAX\n",
    "model = SARIMAX(y_train['Sales'],order=(1, 1, 4),seasonal_order=(1,1,1,12))\n",
    "results = model.fit()\n",
    "results.summary()"
   ]
  },
  {
   "cell_type": "markdown",
   "metadata": {
    "id": "G3uhCtI093j6"
   },
   "source": [
    "#### 9.2.1 predicting Sales of past dates just to see how the model predicts"
   ]
  },
  {
   "cell_type": "code",
   "execution_count": null,
   "metadata": {
    "id": "7IrSztan-GMD"
   },
   "outputs": [],
   "source": [
    "#predict the test data to compare with the real test data later\n",
    "start =len(y_train)\n",
    "end = len(y_train) + len(y_test)-1\n",
    "\n",
    "predictions = results.predict(start=pd.to_datetime('2021-01-01'),end=end, dynamic= False, typ='levels').rename(' Predictions')"
   ]
  },
  {
   "cell_type": "code",
   "execution_count": null,
   "metadata": {
    "colab": {
     "base_uri": "https://localhost:8080/",
     "height": 433
    },
    "id": "4ZJPXyBx-M-D",
    "outputId": "bc048a30-0e93-4814-e6cf-41cf9cd9c6d5"
   },
   "outputs": [],
   "source": [
    "#plot predictions and test data to compare\n",
    "title = \"ACTUAL SALES VS PREDICTED SALES\"\n",
    "ylabel = \"Sales\"\n",
    "xlabel = \"Date\"\n",
    "\n",
    "ax = monthly_mean.plot(legend=True,label = 'Actual',figsize=(18,6),title=title)\n",
    "predictions.plot(legend=True)\n",
    "ax.autoscale(axis='x',tight=True)\n",
    "ax.set(xlabel=xlabel, ylabel =ylabel)"
   ]
  },
  {
   "cell_type": "markdown",
   "metadata": {
    "id": "ysON_X3_-pc3"
   },
   "source": [
    "#### 9.2.2 Calculating Model accuracy.\n",
    "- Evaluation Metrics\n",
    "\n",
    "There are two popular metrics used in measuring the performance of regression (continuous variable) models i.e `MAE & RMSE`.\n",
    "\n",
    "`Mean Absolute Error (MAE):` It is the average of the absolute difference between the predicted values and observed values.\n",
    "\n",
    "`Root Mean Square Error (RMSE):` It is the square root of the average of squared differences between the predicted values and observed values.\n",
    "\n",
    "`MAE` is easier to understand and interpret but `RMSE` works well in situations where large errors are undesirable. This is because the errors are squared before they are averaged, thus penalizing large errors. In our case, `RMSE` suits well because we want to predict the sales with minimum error (i.e penalize high errors) so that inventory can be managed properly.\n",
    "\n",
    "The `lower` the `RMSE`, the better a given model is able to “fit” a dataset. However, the range of the dataset you’re working with is important in determining whether or not a given RMSE value is “low” or not."
   ]
  },
  {
   "cell_type": "code",
   "execution_count": null,
   "metadata": {
    "colab": {
     "base_uri": "https://localhost:8080/"
    },
    "id": "7R1odwVC-tz5",
    "outputId": "e810a9b0-537c-42f4-df4c-5f74c83a3e29"
   },
   "outputs": [],
   "source": [
    "#import necessary libraries\n",
    "from sklearn.metrics import mean_squared_error\n",
    "from math import sqrt\n",
    "RMSE = sqrt(mean_squared_error(monthly_mean, predictions)) \n",
    "RMSE"
   ]
  },
  {
   "cell_type": "markdown",
   "metadata": {
    "id": "qe123pLy_Mby"
   },
   "source": [
    "##### Normalizing the RMSE Value\n",
    "One way to gain a better understanding of whether a certain `RMSE` value is `“good”` is to `normalize` it using the following formula:\n",
    "\n",
    "`Normalized RMSE = RMSE / (max value – min value)`\n",
    "\n",
    "This produces a value between `0 and 1,` where values closer to `0 `represent better fitting models.[documentation](https://www.statology.org/what-is-a-good-rmse/)"
   ]
  },
  {
   "cell_type": "code",
   "execution_count": null,
   "metadata": {
    "colab": {
     "base_uri": "https://localhost:8080/",
     "height": 237
    },
    "id": "nmybO1kz-nKm",
    "outputId": "93140584-ede8-46c4-8c4e-6b581152ff62"
   },
   "outputs": [],
   "source": [
    "# sorting the monthly sales in ascending order\n",
    "sorted_monthly_sales=monthly_mean.sort_values(by='Sales')\n",
    "sorted_monthly_sales.head()"
   ]
  },
  {
   "cell_type": "code",
   "execution_count": null,
   "metadata": {
    "id": "wYPs38Hj_3mp"
   },
   "outputs": [],
   "source": [
    "# find the maximum sale and the minimum sale\n",
    "min_value=sorted_monthly_sales['Sales'].iloc[0]\n",
    "max_value=sorted_monthly_sales['Sales'].iloc[-1]"
   ]
  },
  {
   "cell_type": "code",
   "execution_count": null,
   "metadata": {
    "colab": {
     "base_uri": "https://localhost:8080/"
    },
    "id": "rUOOvIu4AH3r",
    "outputId": "7c80aa3b-6e13-4f51-9380-147ee471b653"
   },
   "outputs": [],
   "source": [
    "# Applying the normalization formulae\n",
    "Normalized_RMSE = (RMSE) / (max_value-min_value)\n",
    "Normalized_RMSE "
   ]
  },
  {
   "cell_type": "markdown",
   "metadata": {
    "id": "1rtNLaCoARg1"
   },
   "source": [
    "The model accuracy is better"
   ]
  },
  {
   "cell_type": "markdown",
   "metadata": {
    "id": "ItUb5qqjAl_0"
   },
   "source": [
    "#### 9.2.3 Making future predictions"
   ]
  },
  {
   "cell_type": "code",
   "execution_count": null,
   "metadata": {
    "id": "LOfEFoMLjeTY"
   },
   "outputs": [],
   "source": [
    "# creating a new dataframe with future dates\n",
    "from pandas.tseries.offsets import DateOffset\n",
    "future_dates=[monthly_mean.index[-1]+ DateOffset(months=x)for x in range(0,24)]"
   ]
  },
  {
   "cell_type": "code",
   "execution_count": null,
   "metadata": {
    "id": "74yWgKnljz_N"
   },
   "outputs": [],
   "source": [
    "# adding column names from the original dataframe\n",
    "future_datest_df=pd.DataFrame(index=future_dates[1:],columns=monthly_mean.columns)"
   ]
  },
  {
   "cell_type": "code",
   "execution_count": null,
   "metadata": {
    "colab": {
     "base_uri": "https://localhost:8080/",
     "height": 206
    },
    "id": "gBMAKyI4j8dI",
    "outputId": "90c17511-7ab5-4241-c819-0e6f9a35cb42"
   },
   "outputs": [],
   "source": [
    "#view the first 5 rows of the new data frame\n",
    "future_datest_df.head()"
   ]
  },
  {
   "cell_type": "code",
   "execution_count": null,
   "metadata": {
    "id": "cP2c8jm5kHaC"
   },
   "outputs": [],
   "source": [
    "# merge the future dates dataframe with the original dataframe\n",
    "future_df=pd.concat([monthly_mean,future_datest_df])"
   ]
  },
  {
   "cell_type": "code",
   "execution_count": null,
   "metadata": {
    "id": "p5LUlTtuwhm6"
   },
   "outputs": [],
   "source": [
    "# predict the sales untill 2023-07-01\n",
    "future_df['predictions']  = results.predict(start=pd.to_datetime('2021-01-01'),end=pd.to_datetime('2023-07-01'), dynamic= False, typ='levels').rename(' Predictions')"
   ]
  },
  {
   "cell_type": "code",
   "execution_count": null,
   "metadata": {
    "colab": {
     "base_uri": "https://localhost:8080/",
     "height": 433
    },
    "id": "5O8StFLDudnP",
    "outputId": "cc25dc67-15df-4a6a-9c01-8a9ed096bfe0"
   },
   "outputs": [],
   "source": [
    "#plot predictions and actual sales data to see the future prediction\n",
    "title = \"ACTUAL SALES VS PREDICTED SALES\"\n",
    "ylabel = \"Sales\"\n",
    "xlabel = \"Date\"\n",
    "\n",
    "ax = monthly_mean.plot(legend=True,label = 'Actual',figsize=(18,6),title=title)\n",
    "future_df['predictions'].plot(legend=True)\n",
    "ax.autoscale(axis='x',tight=True)\n",
    "ax.set(xlabel=xlabel, ylabel =ylabel)"
   ]
  },
  {
   "cell_type": "code",
   "execution_count": null,
   "metadata": {
    "colab": {
     "base_uri": "https://localhost:8080/",
     "height": 1000
    },
    "id": "b8pXztE130WH",
    "outputId": "522e1ae4-465d-42de-c7eb-8130f08a8183"
   },
   "outputs": [],
   "source": [
    "# view the first 30rows of the dataframe\n",
    "future_df"
   ]
  }
 ],
 "metadata": {
  "colab": {
   "collapsed_sections": [],
   "provenance": [],
   "toc_visible": true
  },
  "kernelspec": {
   "display_name": "Python 3 (ipykernel)",
   "language": "python",
   "name": "python3"
  },
  "language_info": {
   "codemirror_mode": {
    "name": "ipython",
    "version": 3
   },
   "file_extension": ".py",
   "mimetype": "text/x-python",
   "name": "python",
   "nbconvert_exporter": "python",
   "pygments_lexer": "ipython3",
   "version": "3.7.6"
  }
 },
 "nbformat": 4,
 "nbformat_minor": 1
}
